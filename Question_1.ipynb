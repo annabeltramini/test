{
  "nbformat": 4,
  "nbformat_minor": 0,
  "metadata": {
    "colab": {
      "provenance": [],
      "authorship_tag": "ABX9TyPOvAk0Ip5x8WdD9FTfJs4/",
      "include_colab_link": true
    },
    "kernelspec": {
      "name": "python3",
      "display_name": "Python 3"
    },
    "language_info": {
      "name": "python"
    }
  },
  "cells": [
    {
      "cell_type": "markdown",
      "metadata": {
        "id": "view-in-github",
        "colab_type": "text"
      },
      "source": [
        "<a href=\"https://colab.research.google.com/github/annabeltramini/test/blob/main/Question_1.ipynb\" target=\"_parent\"><img src=\"https://colab.research.google.com/assets/colab-badge.svg\" alt=\"Open In Colab\"/></a>"
      ]
    },
    {
      "cell_type": "code",
      "execution_count": 10,
      "metadata": {
        "id": "YxnaDvvT_eTm"
      },
      "outputs": [],
      "source": [
        "import numpy as np \n",
        "import tensorflow\n",
        "import torch \n",
        "import torch.nn as nn \n",
        "import torch.optim as optim \n",
        "import matplotlib.pyplot as plt\n",
        "\n",
        "import numpy as np\n",
        "import pandas as pd\n",
        "import seaborn as sns\n",
        "import matplotlib.pyplot as plt\n",
        "import os\n",
        "from tensorflow.keras.utils import to_categorical"
      ]
    },
    {
      "cell_type": "code",
      "source": [
        "import numpy as np\n",
        "###INPUTS AS DESCRIBED\n",
        "inputs = np.array([[1,0,0,0,0,0,0,0],\n",
        "          [0,1,0,0,0,0,0,0],\n",
        "          [0,0,1,0,0,0,0,0],\n",
        "          [0,0,0,1,0,0,0,0],\n",
        "          [0,0,0,0,1,0,0,0],\n",
        "          [0,0,0,0,0,1,0,0],\n",
        "          [0,0,0,0,0,0,1,0],\n",
        "          [0,0,0,0,0,0,0,1]])\n",
        "\n",
        "#ACTIVATION FUNCTION\n",
        "def sigmoid(x):\n",
        "    sigm = 1/(1+np.exp(-x))\n",
        "    return sigm\n",
        "#Its derivative from back propagation\n",
        "def sigm_prime(x):\n",
        "    sigm_prim = x*(1-x) \n",
        "    return sigm_prim\n",
        "\n",
        "#TRAINING FUNCTION\n",
        "def train(inputs,hidden_num, epochs):\n",
        "  #Weights and balances start randomly\n",
        "  weights_i2h = np.random.rand(inputs.shape[1],hidden_num)\n",
        "  weights_h2o = np.random.rand(hidden_num,inputs.shape[1])\n",
        "\n",
        "  #Store the error values\n",
        "  d_Error_plot = list()\n",
        "  for _ in range(epochs):\n",
        "    d_Error = list() #error in each epoch\n",
        "    #extract each row and analyse separately\n",
        "      #the question is to analyse 8 vectors\n",
        "    for input in inputs:\n",
        "      target_output = input #I want to get the same as the input\n",
        "\n",
        "\n",
        "      #FORWARD \n",
        "      #Strength of connection depends on weights\n",
        "      hidden_input = np.dot(input,weights_i2h)\n",
        "      hidden_output = sigmoid(hidden_input) #activation function\n",
        "\n",
        "      #Input for the final layer\n",
        "      final_input =  np.dot(hidden_output,weights_h2o)\n",
        "      final_output = sigmoid(final_input) #activation function\n",
        "\n",
        "\n",
        "      #BACKPROPAGATION\n",
        "      #This is the error\n",
        "      delta_kt = target_output - final_output #1x8\n",
        "      \n",
        "      #Mean Squared Error often used for this calculations\n",
        "      d_Error.append(((delta_kt)**2)/2)\n",
        "\n",
        "      #How much should the weights to the output change?\n",
        "      delta_output = delta_kt * sigm_prime(final_output)\n",
        "      delta_hidden = np.dot(delta_output,weights_h2o.T) * sigm_prime(hidden_output)\n",
        "\n",
        "      #Update the weights\n",
        "      weights_h2o += np.dot(hidden_output.reshape(hidden_num,1), delta_output.reshape(1,inputs.shape[1]))\n",
        "      weights_i2h += np.dot(input.reshape(inputs.shape[1],1), delta_hidden.reshape(1,hidden_num))\n",
        "\n",
        "    #Store the mean squared error of the epoch\n",
        "    d_Error_plot.append(np.mean(d_Error))\n",
        "  return weights_i2h, weights_h2o, d_Error_plot\n",
        "\n",
        "#TRAIN OVER 1000 EPOCHS\n",
        "weights_i2h, weights_h2o, d_Error_plot = train(inputs,3,1000)"
      ],
      "metadata": {
        "id": "YvJpW70P_ut-"
      },
      "execution_count": 22,
      "outputs": []
    },
    {
      "cell_type": "code",
      "source": [
        "import matplotlib.pyplot as plt\n",
        "\n",
        "#Create a funciton that only does the forward step\n",
        "  #this will allow to apply the model to a single vector\n",
        "def predictor(input):\n",
        "    hidden_layer = sigmoid(np.dot(input,weights_i2h))\n",
        "    outputs = sigmoid(np.dot(hidden_layer, weights_h2o))\n",
        "    return(hidden_layer,outputs)\n",
        "\n",
        "#get the outputs for all the 8 vectors and store it\n",
        "outputs_list = []\n",
        "for i in range(0,len(inputs)):\n",
        "  hidden_layer, outputs = predictor(inputs[i])\n",
        "  outputs_list.append(outputs)\n",
        "\n",
        "#print(inputs[o])\n",
        "outputs_list = np.array(outputs_list)"
      ],
      "metadata": {
        "id": "ItymZWlQAV_T"
      },
      "execution_count": 18,
      "outputs": []
    },
    {
      "cell_type": "code",
      "source": [
        "#Plot the mean squared error across epochs\n",
        "plt.plot(range(1000), d_Error_plot)\n",
        "plt.xlabel('Epoch')\n",
        "plt.ylabel('Error')\n",
        "#plt.show()\n",
        "\n",
        "fig_dir = './'\n",
        "fig_ext = '.png'\n",
        "plt.savefig(os.path.join(fig_dir, 'MLP_10000_error' + fig_ext), dpi=199,\n",
        "            bbox_inches='tight', pad_inches=0.25) "
      ],
      "metadata": {
        "colab": {
          "base_uri": "https://localhost:8080/",
          "height": 279
        },
        "id": "aiq2naa6AcgA",
        "outputId": "c856e469-ade7-46de-b044-900e9c1e8a7e"
      },
      "execution_count": 19,
      "outputs": [
        {
          "output_type": "display_data",
          "data": {
            "text/plain": [
              "<Figure size 432x288 with 1 Axes>"
            ],
            "image/png": "[encoded data removed]"
          },
          "metadata": {
            "needs_background": "light"
          }
        }
      ]
    },
    {
      "cell_type": "code",
      "source": [
        "#PLOT THE PREDICTIONS AS HEATMAPS\n",
        "\n",
        "fig, ax = plt.subplots(figsize=(9,7))\n",
        "title = \"Prediction after 10000 iterations\"\n",
        "\n",
        "plt.title(title,fontsize=18)\n",
        "ttl = ax.title\n",
        "ttl.set_position([0.5,1.05])\n",
        "\n",
        "x_axis_labels=[\"y0\", \"y1\", \"y2\", \"y3\", \"y4\",\"y5\",\"y6\",\"y7\"]\n",
        "\n",
        "sns.heatmap(outputs_list,fmt=\"\",cmap='RdYlGn',linewidths=0.30,ax=ax,yticklabels=False, xticklabels=x_axis_labels) \n",
        "\n",
        "fig.set_size_inches(9, 7)\n",
        "\n",
        "fig_dir = './'\n",
        "fig_ext = '.png'\n",
        "fig.savefig(os.path.join(fig_dir, 'MLP_10000' + fig_ext),\n",
        "            bbox_inches='tight', pad_inches=0.25) "
      ],
      "metadata": {
        "colab": {
          "base_uri": "https://localhost:8080/",
          "height": 467
        },
        "id": "azENoKYzBTIS",
        "outputId": "e5f38c42-2249-4e66-acc2-2056ea297ad6"
      },
      "execution_count": 23,
      "outputs": [
        {
          "output_type": "display_data",
          "data": {
            "text/plain": [
              "<Figure size 648x504 with 2 Axes>"
            ],
            "image/png": "[encoded data removed]"
          },
          "metadata": {
            "needs_background": "light"
          }
        }
      ]
    },
    {
      "cell_type": "code",
      "source": [
        "#PLOT INPUT AS HEAT MAP FOR COMPARISON\n",
        "fig, ax = plt.subplots(figsize=(9,7))\n",
        "title = \"Input\"\n",
        "\n",
        "plt.title(title,fontsize=18)\n",
        "ttl = ax.title\n",
        "ttl.set_position([0.5,1.05])\n",
        "\n",
        "x_axis_labels=[\"x0\", \"x1\", \"x2\", \"x3\", \"x4\",\"x5\",\"x6\",\"x7\"]\n",
        "\n",
        "sns.heatmap(inputs,fmt=\"\",cmap='RdYlGn',linewidths=0.30,ax=ax,yticklabels=False, xticklabels=x_axis_labels) \n",
        "\n",
        "fig.set_size_inches(9, 7)\n",
        "\n",
        "fig_dir = './'\n",
        "fig_ext = '.png'\n",
        "fig.savefig(os.path.join(fig_dir, 'MLP_input' + fig_ext),\n",
        "            bbox_inches='tight', pad_inches=0.25) "
      ],
      "metadata": {
        "colab": {
          "base_uri": "https://localhost:8080/",
          "height": 467
        },
        "id": "_ZucQXfjBT5V",
        "outputId": "bc50abf9-ffee-4c2f-be39-69334462fced"
      },
      "execution_count": 24,
      "outputs": [
        {
          "output_type": "display_data",
          "data": {
            "text/plain": [
              "<Figure size 648x504 with 2 Axes>"
            ],
            "image/png": "[encoded data removed]"
          },
          "metadata": {
            "needs_background": "light"
          }
        }
      ]
    },
    {
      "cell_type": "markdown",
      "source": [
        "### Autoencoder"
      ],
      "metadata": {
        "id": "z8Co24ok_sXH"
      }
    },
    {
      "cell_type": "code",
      "source": [
        "from google.colab import drive\n",
        "drive.mount('/content/drive')"
      ],
      "metadata": {
        "colab": {
          "base_uri": "https://localhost:8080/",
          "height": 0
        },
        "id": "hmgMm78KA9S6",
        "outputId": "1f4df9bc-3b08-4e8c-af03-ec5b836e7631"
      },
      "execution_count": 7,
      "outputs": [
        {
          "output_type": "stream",
          "name": "stdout",
          "text": [
            "Mounted at /content/drive\n"
          ]
        }
      ]
    },
    {
      "cell_type": "code",
      "source": [
        "##IMPORT THE IMAGE YOU WANT TO COMPRESS\n",
        "import cv2\n",
        "from google.colab.patches import cv2_imshow\n",
        "img = cv2.imread(\"/content/drive/MyDrive/cat50.jpg\")\n",
        "#plt.plot(img)\n",
        "\n",
        "# Convert the RGB image to grayscale\n",
        "gray = cv2.cvtColor(img, cv2.COLOR_BGR2GRAY)\n",
        "\n",
        "# Convert the image to a numpy array\n",
        "img_np1 = np.array(gray)\n",
        "img_np1 = img_np1.ravel()\n",
        "img_np = to_categorical(img_np1, num_classes = 256)\n",
        "cv2_imshow(gray)\n",
        "img_np.shape\n",
        "gray.shape"
      ],
      "metadata": {
        "colab": {
          "base_uri": "https://localhost:8080/",
          "height": 84
        },
        "id": "IgbHEH8u_rGK",
        "outputId": "1a865267-61f1-4a90-86e4-4c9507a51b05"
      },
      "execution_count": 11,
      "outputs": [
        {
          "output_type": "display_data",
          "data": {
            "text/plain": [
              "<PIL.Image.Image image mode=L size=50x50 at 0x7F783E0192E0>"
            ],
            "image/png": "[encoded data removed]"
          },
          "metadata": {}
        },
        {
          "output_type": "execute_result",
          "data": {
            "text/plain": [
              "(50, 50)"
            ]
          },
          "metadata": {},
          "execution_count": 11
        }
      ]
    },
    {
      "cell_type": "code",
      "source": [
        "#CREATE TRAINING DATA FOR THE NETWORK\n",
        "train_255 = range(0,256)\n",
        "train_255 = to_categorical(train_255, num_classes = 256)"
      ],
      "metadata": {
        "id": "7sZvR9O1_y-H"
      },
      "execution_count": 12,
      "outputs": []
    },
    {
      "cell_type": "code",
      "source": [
        "#TRAIN THE NETWORK ON THE TRAINING DATA FOR 8 BIT IMAGES\n",
        "weights_i2h, weights_h2o, d_Error_plot = train(train_255,8,5000)"
      ],
      "metadata": {
        "id": "F_2sHKF__6_4"
      },
      "execution_count": 13,
      "outputs": []
    },
    {
      "cell_type": "code",
      "source": [
        "#Initialise variables\n",
        "hidden_layers = []\n",
        "outputs_list = []\n",
        "hidden_pixels = []\n",
        "\n",
        "#for eahc pixel in the image\n",
        "for i in img_np:\n",
        "  #print(i)\n",
        "  hidden_layer, outputs = predictor(i)\n",
        "  hidden_layers.append(hidden_layer)\n",
        "  hidden_pixels.append(np.argmax(hidden_layer)) #most likely intensity\n",
        "  outputs_list.append(np.argmax(outputs)) #most likely intensity\n",
        "  \n",
        "#DISPLAY OUTPUTTED DECODED IMAGE\n",
        "outputs_list = np.array(outputs_list)\n",
        "image_predicted = outputs_list.reshape(50,50)\n",
        "plt.imshow(image_predicted, cmap = \"gray\")\n",
        "plt.axis(\"off\")\n",
        "plt.show()\n",
        "###print(max(outputs_list))\n",
        "#print(min(outputs_list))\n",
        "#print(np.argmax(outputs_list[1]))\n",
        "\n",
        "#DISPLAY COMPRESSED IMAGE IN THE HIDDEN LAYER\n",
        "hidden_pixels = np.array(hidden_pixels)/15\n",
        "image_hidden_predicted = hidden_pixels.reshape(50,50)\n",
        "#print(hidden_pixels.shape)\n",
        "\n",
        "plt.imshow(image_hidden_predicted, cmap = \"gray\")\n",
        "plt.axis(\"off\")\n",
        "plt.show()"
      ],
      "metadata": {
        "colab": {
          "base_uri": "https://localhost:8080/",
          "height": 479
        },
        "id": "LTLUcIjEAGZJ",
        "outputId": "d4e5e967-495a-41d5-b4ab-7b60a872b754"
      },
      "execution_count": 16,
      "outputs": [
        {
          "output_type": "display_data",
          "data": {
            "text/plain": [
              "<Figure size 432x288 with 1 Axes>"
            ],
            "image/png": "[encoded data removed]"
          },
          "metadata": {
            "needs_background": "light"
          }
        },
        {
          "output_type": "display_data",
          "data": {
            "text/plain": [
              "<Figure size 432x288 with 1 Axes>"
            ],
            "image/png": "[encoded data removed]"
          },
          "metadata": {
            "needs_background": "light"
          }
        }
      ]
    }
  ]
}