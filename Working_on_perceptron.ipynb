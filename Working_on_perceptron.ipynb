{
  "nbformat": 4,
  "nbformat_minor": 0,
  "metadata": {
    "colab": {
      "provenance": [],
      "mount_file_id": "17tw5P7nXRNLBmG3Lk6bW78IadAL8YQ0U",
      "authorship_tag": "ABX9TyPx/yi8QA13tXn1SFDQrfXs",
      "include_colab_link": true
    },
    "kernelspec": {
      "name": "python3",
      "display_name": "Python 3"
    },
    "language_info": {
      "name": "python"
    }
  },
  "cells": [
    {
      "cell_type": "markdown",
      "metadata": {
        "id": "view-in-github",
        "colab_type": "text"
      },
      "source": [
        "<a href=\"https://colab.research.google.com/github/annabeltramini/test/blob/main/Working_on_perceptron.ipynb\" target=\"_parent\"><img src=\"https://colab.research.google.com/assets/colab-badge.svg\" alt=\"Open In Colab\"/></a>"
      ]
    },
    {
      "cell_type": "code",
      "execution_count": null,
      "metadata": {
        "id": "s-tcy5Elt56C"
      },
      "outputs": [],
      "source": [
        "import numpy as np \n",
        "import tensorflow\n",
        "import torch \n",
        "import torch.nn as nn \n",
        "import torch.optim as optim \n",
        "import matplotlib.pyplot as plt"
      ]
    },
    {
      "cell_type": "code",
      "source": [
        "from keras.datasets import mnist\n",
        "\n",
        "(x_train, y_train), (x_test, y_test) = mnist.load_data()"
      ],
      "metadata": {
        "id": "MB1BXTFOudeu",
        "colab": {
          "base_uri": "https://localhost:8080/"
        },
        "outputId": "5822081e-278c-4b2a-f076-7353b371b22a"
      },
      "execution_count": null,
      "outputs": [
        {
          "output_type": "stream",
          "name": "stdout",
          "text": [
            "Downloading data from https://storage.googleapis.com/tensorflow/tf-keras-datasets/mnist.npz\n",
            "11490434/11490434 [==============================] - 0s 0us/step\n"
          ]
        }
      ]
    },
    {
      "cell_type": "code",
      "source": [
        "# creating list through list comprehension method\n",
        "x_train = [image/255 for image in x_train]\n",
        "x_test = [image/255 for image in x_test]\n",
        "print(np.max(x_train[0]),np.max(x_test[0]))\n"
      ],
      "metadata": {
        "colab": {
          "base_uri": "https://localhost:8080/"
        },
        "id": "yuSBdBcYuo0o",
        "outputId": "fb959625-2ec2-4622-e2a0-9b7826496a09"
      },
      "execution_count": null,
      "outputs": [
        {
          "output_type": "stream",
          "name": "stdout",
          "text": [
            "1.0 1.0\n"
          ]
        }
      ]
    },
    {
      "cell_type": "code",
      "source": [
        "np.max(x_train[0])\n"
      ],
      "metadata": {
        "id": "lTfXpwXxxAj3"
      },
      "execution_count": null,
      "outputs": []
    },
    {
      "cell_type": "code",
      "source": [
        "first_image = x_train[0]\n",
        "first_image = first_image.flatten()\n",
        "\n",
        "\n",
        "\n",
        "\n",
        "\n",
        "\n",
        "first_image_r = first_image.reshape((28,28))\n",
        "plt.imshow( x_train[0], cmap='gray')\n",
        "plt.show()"
      ],
      "metadata": {
        "colab": {
          "base_uri": "https://localhost:8080/",
          "height": 265
        },
        "id": "AeWRvlJaxWfA",
        "outputId": "e8274f44-6e04-4b99-9c70-349dd67305b2"
      },
      "execution_count": null,
      "outputs": [
        {
          "output_type": "display_data",
          "data": {
            "text/plain": [
              "<Figure size 432x288 with 1 Axes>"
            ],
            "image/png": "[encoded data removed]"
          },
          "metadata": {
            "needs_background": "light"
          }
        }
      ]
    },
    {
      "cell_type": "code",
      "source": [
        "import numpy as np\n",
        "import matplotlib.pyplot as plt\n",
        "\n",
        "# set random seed so get same sequence of random numbers each time prog is run.\n",
        "np.random.seed(1)\n",
        "\n",
        "########## set input and output values ##########\n",
        "\n",
        "# set input vectors for XOR\n",
        "#Input array\n",
        "X = np.array([[0,0], [0,1], [1,0] , [1,1]])\n",
        "\n",
        "# set output values for XOR\n",
        "targetvectors = np.array([[0],[1],[1],[0]])\n",
        "\n",
        "# define unit activcation function as sigmoid function\n",
        "def sigmoid (x):\n",
        "    return 1/(1 + np.exp(-x))\n",
        "\n",
        "# define derivative of Sigmoid Function\n",
        "def derivatives_sigmoid(x):\n",
        "    return x * (1 - x)\n",
        "\n",
        "########## set parameters ##########\n",
        "niter = 3000 # number of training iterations\n",
        "plotinterval = 100 # interval between plotting graphs\n",
        "\n",
        "errors = np.zeros(niter) # record of errors during training\n",
        "numcorrects = np.zeros(niter) # number of correct outputs during training\n",
        "\n",
        "# decide if want to have sigmoidal or linear output units\n",
        "sigmoidalOutputUnits = 0\n",
        "\n",
        "if (sigmoidalOutputUnits):\n",
        "    lr = 0.5 # learning rate\n",
        "else:\n",
        "    lr = 0.1 # learning rate\n",
        "\n",
        "inputlayer_neurons = X.shape[1] # number of units in input layer \n",
        "hiddenlayer_neurons = 2 # number of hidden layer units\n",
        "output_neurons = 1 # number of units in output layer\n",
        "\n",
        "# weight and bias initialization\n",
        "# weights between input and hidden layer\n",
        "wh = np.random.uniform(size=(inputlayer_neurons,hiddenlayer_neurons))\n",
        "# biases of hidden layer units\n",
        "bh = np.random.uniform(size=(1,hiddenlayer_neurons))\n",
        "\n",
        "# weights of output layer units\n",
        "wout = np.random.uniform(size=(hiddenlayer_neurons,output_neurons))\n",
        "# biases of output layer units\n",
        "bout = np.random.uniform(size=(1,output_neurons))\n",
        "\n",
        "########## SET UP GRAPHS ##########\n",
        "# set interactive plotting on, so graphs appear outside of console.\n",
        "plt.ion()\n",
        "\n",
        "fig, axes = plt.subplots(1,2)\n",
        "axerror = axes[0]\n",
        "axnumcorrect = axes[1]\n",
        "\n",
        "axerror.set_xlabel('Epoch')\n",
        "axerror.set_ylabel('Error')\n",
        "        \n",
        "axnumcorrect.set_ylabel('Number correct')\n",
        "axnumcorrect.set_xlabel('Epoch')\n",
        "\n",
        "# set state of bias unit; this code works if set to -1 or +1.\n",
        "biasunitstate = -1.0\n",
        "\n",
        "########## LEARN ##########\n",
        "for iter in range(niter):\n",
        "\n",
        "    # Forward Propogation\n",
        "    hidden_layer_input1 = np.dot(X,wh) # input from input layer\n",
        "    hidden_layer_input = hidden_layer_input1 + bh*biasunitstate # add input from bias unit\n",
        "    hiddenlayer_states = sigmoid(hidden_layer_input)\n",
        "    \n",
        "    output_layer_input1 = np.dot(hiddenlayer_states,wout)\n",
        "    output_layer_input= output_layer_input1 + bout * biasunitstate\n",
        "    \n",
        "    # Backpropagation\n",
        "    # get derivatives of errors wrt unit inputs ...\n",
        "    # ... of output layer\n",
        "    if (sigmoidalOutputUnits):\n",
        "        output = sigmoid(output_layer_input)\n",
        "        slope_output_layer = derivatives_sigmoid(output)\n",
        "    else: # output units are linear\n",
        "        output = output_layer_input\n",
        "        slope_output_layer = output*0 + 1 # each derivative = 1\n",
        "\n",
        "    d = targetvectors - output # delta terms = errors in output layer\n",
        "        \n",
        "    # get derivatives of errors wrt unit inputs of hidden units\n",
        "    slope_hidden_layer = derivatives_sigmoid(hiddenlayer_states)\n",
        "    \n",
        "    # get delta terms of output units = d_output\n",
        "    d_output = d * slope_output_layer\n",
        "    \n",
        "    Error_at_hidden_layer = d_output.dot(wout.T)\n",
        "    d_hiddenlayer = Error_at_hidden_layer * slope_hidden_layer\n",
        "    \n",
        "    # update weights of output units\n",
        "    wout += hiddenlayer_states.T.dot(d_output) * lr\n",
        "    # update biases of output units\n",
        "    bout += np.sum(d_output, axis=0,keepdims=True) * biasunitstate * lr\n",
        "    \n",
        "    # update weights and biases of hidden units\n",
        "    wh += X.T.dot(d_hiddenlayer) * lr    \n",
        "    bh += np.sum(d_hiddenlayer, axis=0,keepdims=True) * biasunitstate * lr\n",
        "\n",
        "    error = np.linalg.norm(d)\n",
        "    errors[iter] = error\n",
        "    \n",
        "    # count number of correct responses\n",
        "    a = (output<0.5)\n",
        "    b = (targetvectors<0.5)\n",
        "    numcorrect = sum(a==b)\n",
        "    numcorrects[iter] = numcorrect\n",
        "    \n",
        "    ########## Plot ##########\n",
        "    if (iter % plotinterval == 0):\n",
        "        axerror.plot(errors[0:niter],'k')\n",
        "        plt.show()\n",
        "        plt.pause(0.001)\n",
        "        axnumcorrect.plot(numcorrects[0:niter],'k')\n",
        "        plt.show()\n",
        "        plt.pause(0.001)\n",
        "\n",
        "########## Print results ##########\n",
        "print('Target values')\n",
        "print(targetvectors)\n",
        "print('Output values')\n",
        "print(output)\n",
        "error=np.linalg.norm(d)\n",
        "    #print(i)\n",
        "print('Final error:')\n",
        "print(error)\n",
        "########## The End ##########"
      ],
      "metadata": {
        "id": "sPFRO2Mpzv3F",
        "colab": {
          "base_uri": "https://localhost:8080/",
          "height": 491
        },
        "outputId": "064374d3-c536-40d3-c51f-5afd2ed1129d"
      },
      "execution_count": null,
      "outputs": [
        {
          "output_type": "display_data",
          "data": {
            "text/plain": [
              "<Figure size 432x288 with 2 Axes>"
            ],
            "image/png": "[encoded data removed]"
          },
          "metadata": {
            "needs_background": "light"
          }
        },
        {
          "output_type": "stream",
          "name": "stdout",
          "text": [
            "Target values\n",
            "[[0]\n",
            " [1]\n",
            " [1]\n",
            " [0]]\n",
            "Output values\n",
            "[[1.11842238e-05]\n",
            " [9.99985076e-01]\n",
            " [9.99985051e-01]\n",
            " [2.31644494e-05]]\n",
            "Final error:\n",
            "3.328487883129977e-05\n"
          ]
        }
      ]
    },
    {
      "cell_type": "markdown",
      "source": [
        "My perceptron"
      ],
      "metadata": {
        "id": "ekf6c7QFzwhl"
      }
    },
    {
      "cell_type": "code",
      "source": [
        "import numpy as np \n",
        "\n",
        "#Weights and balances start randomly\n",
        "weights_i2h = np.random.rand(3,8)\n",
        "    #3 (one for each hidden unit)\n",
        "    #8 units long (one for each input unit)\n",
        "weights_h2o = np.random.rand(8,3)\n",
        "    #8 (one for each output unit)\n",
        "    #3 units long (one for each input unit)\n",
        "    \n",
        "bias_hid = -1\n",
        "bias_out = -1\n",
        "\n",
        "def sigmoid(x):\n",
        "    sigm = 1/(1+np.exp(-x))\n",
        "    return sigm\n",
        "\n",
        "def sigm_prime(x):\n",
        "    sigm_prim = x*(1-x) #this is different from the R code, don't know if it's right\n",
        "    return sigm_prim\n",
        "\n",
        "def feedforward(inp):\n",
        "    hidden_outputs = sigmoid(np.dot(weights_i2h, inp) + bias_hid) \n",
        "    # Calculate the final outputs \n",
        "    final_outputs = sigmoid(np.dot(weights_h2o, hidden_outputs) + bias_out) \n",
        "    return final_outputs\n",
        "\n",
        "def backprop(inp,expected_outputs):\n",
        "    global weights_i2h\n",
        "    #global weights_h2o\n",
        "    #global bias_hid\n",
        "    #global bias_out\n",
        "    #global final_outputs\n",
        "    #global output_errors\n",
        "    #global hidden_errors\n",
        "    #global hidden_outputs\n",
        "\n",
        "    hidden_outputs = sigmoid(np.dot(weights_i2h, inp) + bias_hid)\n",
        "    final_outputs = sigmoid(np.dot(weights_h2o, hidden_outputs) + bias_out)\n",
        "    output_errors = expected_outputs - final_outputs \n",
        "    hidden_errors = np.dot(weights_h2o.T, output_errors) #.T for transverse\n",
        "    weights_h2o += np.dot(output_errors * sigm_prime(final_outputs), hidden_outputs.T)    \n",
        "    bias_out += output_errors * sigm_prime(final_outputs)\n",
        "    weights_inp_to_hid += np.dot(hidden_errors*sigm_prime(hidden_outputs), inp.T)\n",
        "    bias_hid += hidden_errors * sigm_prime(hidden_outputs)"
      ],
      "metadata": {
        "id": "Hy13xoyXu5VQ"
      },
      "execution_count": null,
      "outputs": []
    },
    {
      "cell_type": "code",
      "source": [
        "from keras.utils import save_img\n",
        "import numpy as np\n",
        "import math\n",
        "#Weights and balances start randomly\n",
        "weights_i2h = np.random.rand(8,3)\n",
        "    #3 (one for each hidden unit)\n",
        "    #8 units long (one for each input unit)\n",
        "weights_h2o = np.random.rand(3,8)\n",
        "    #8 (one for each output unit)\n",
        "    #3 units long (one for each input unit)\n",
        "learning = True\n",
        "\n",
        "inputs = np.array([[1,0,0,0,0,0,0,0],\n",
        "          [0,1,0,0,0,0,0,0],\n",
        "          [0,0,1,0,0,0,0,0],\n",
        "          [0,0,0,1,0,0,0,0],\n",
        "          [0,0,0,0,1,0,0,0],\n",
        "          [0,0,0,0,0,1,0,0],\n",
        "          [0,0,0,0,0,0,1,0],\n",
        "          [0,0,0,0,0,0,0,1]])\n",
        "d_Error_plot = list()\n",
        "for _ in range(1000):\n",
        "  d_Error = list()\n",
        "\n",
        "  for input in inputs:\n",
        "      target_output = input\n",
        "      #print(input)\n",
        "      hidden_input = np.dot(input,weights_i2h)\n",
        "      \n",
        "      hidden_output = sigmoid(hidden_input)\n",
        "      final_input =  np.dot(hidden_output,weights_h2o)\n",
        "      final_output = sigmoid(final_input) \n",
        "\n",
        "      delta_kt = target_output - final_output #1x8\n",
        "      \n",
        "      d_Error.append(sum(((delta_kt)**2)/8))\n",
        "      #d_Error += sum(((delta_kt)**2)/8)\n",
        "      \n",
        "      delta_output = delta_kt * sigm_prime(final_output)\n",
        "      #d_Error += delta_output\n",
        "      #print(\"hidden output\",hidden_output)\n",
        "      #print(\"delta output\", delta_output)\n",
        "      delta_hidden = np.dot(delta_output,weights_h2o.T) * sigm_prime(hidden_output)\n",
        "\n",
        "      weights_h2o += np.dot(hidden_output.reshape(3,1), delta_output.reshape(1,8))\n",
        "      weights_i2h += np.dot(input.reshape(8,1), delta_hidden.reshape(1,3))\n",
        "      #weights_h2o += np.dot(delta_kt * sigm_prime(final_output),hidden_output)\n",
        "      #weights_h2o += np.dot(hidden_output, delta_output)\n",
        "      #weights_i2h += np.dot(input,delta_hidden)\n",
        "  d_Error_plot.append(np.mean(d_Error))\n",
        "  #print(d_Error)\n",
        "#ADD THE TOTAL WEIGHTS OF THE MODEL AND A WAY TO PLOT THEM\n",
        "\n",
        "  #FORWARD\n",
        "  #set input unit states it to th training vector\n",
        "  #hidden_outputs = sigmoid(np.dot(weights_i2h, inp) + bias_hid) \n",
        "  #Get state of ouptu units\n",
        "  #final_outputs = sigmoid(np.dot(weights_h2o, hidden_outputs) + bias_out) \n",
        "\n",
        "  #BACKWARD\n",
        "  #Delta term dkt for each output unit\n",
        "\n"
      ],
      "metadata": {
        "id": "8YpDvJWvyzVl"
      },
      "execution_count": null,
      "outputs": []
    },
    {
      "cell_type": "code",
      "source": [
        "import matplotlib.pyplot as plt\n",
        "\n",
        "plt.plot(d_Error_plot)"
      ],
      "metadata": {
        "colab": {
          "base_uri": "https://localhost:8080/",
          "height": 282
        },
        "id": "IXNRZp2VuNnt",
        "outputId": "21908abd-80d0-46ee-9333-1680192e57fd"
      },
      "execution_count": null,
      "outputs": [
        {
          "output_type": "execute_result",
          "data": {
            "text/plain": [
              "[<matplotlib.lines.Line2D at 0x7f35b1a04730>]"
            ]
          },
          "metadata": {},
          "execution_count": 74
        },
        {
          "output_type": "display_data",
          "data": {
            "text/plain": [
              "<Figure size 432x288 with 1 Axes>"
            ],
            "image/png": "[encoded data removed]"
          },
          "metadata": {
            "needs_background": "light"
          }
        }
      ]
    },
    {
      "cell_type": "code",
      "source": [
        "hidden_output = np.array([0.59886713,0.53077805,0.5770078 ])\n",
        "delta_outout = np.array([-0.15101875,-0.15466433,0.03661054,0.17320429,-0.15272208,-0.15670015,-0.10684789 ,0.05574947])\n",
        "\n",
        "np.dot(hidden_output.T,delta_outout.T)"
      ],
      "metadata": {
        "colab": {
          "base_uri": "https://localhost:8080/",
          "height": 253
        },
        "id": "K0uF7gVmU0H4",
        "outputId": "1efde69d-990d-4934-9f91-574b8448c964"
      },
      "execution_count": null,
      "outputs": [
        {
          "output_type": "error",
          "ename": "ValueError",
          "evalue": "ignored",
          "traceback": [
            "\u001b[0;31m---------------------------------------------------------------------------\u001b[0m",
            "\u001b[0;31mValueError\u001b[0m                                Traceback (most recent call last)",
            "\u001b[0;32m<ipython-input-34-e4b9fc29c24e>\u001b[0m in \u001b[0;36m<module>\u001b[0;34m\u001b[0m\n\u001b[1;32m      2\u001b[0m \u001b[0mdelta_outout\u001b[0m \u001b[0;34m=\u001b[0m \u001b[0mnp\u001b[0m\u001b[0;34m.\u001b[0m\u001b[0marray\u001b[0m\u001b[0;34m(\u001b[0m\u001b[0;34m[\u001b[0m\u001b[0;34m-\u001b[0m\u001b[0;36m0.15101875\u001b[0m\u001b[0;34m,\u001b[0m\u001b[0;34m-\u001b[0m\u001b[0;36m0.15466433\u001b[0m\u001b[0;34m,\u001b[0m\u001b[0;36m0.03661054\u001b[0m\u001b[0;34m,\u001b[0m\u001b[0;36m0.17320429\u001b[0m\u001b[0;34m,\u001b[0m\u001b[0;34m-\u001b[0m\u001b[0;36m0.15272208\u001b[0m\u001b[0;34m,\u001b[0m\u001b[0;34m-\u001b[0m\u001b[0;36m0.15670015\u001b[0m\u001b[0;34m,\u001b[0m\u001b[0;34m-\u001b[0m\u001b[0;36m0.10684789\u001b[0m \u001b[0;34m,\u001b[0m\u001b[0;36m0.05574947\u001b[0m\u001b[0;34m]\u001b[0m\u001b[0;34m)\u001b[0m\u001b[0;34m\u001b[0m\u001b[0;34m\u001b[0m\u001b[0m\n\u001b[1;32m      3\u001b[0m \u001b[0;34m\u001b[0m\u001b[0m\n\u001b[0;32m----> 4\u001b[0;31m \u001b[0mnp\u001b[0m\u001b[0;34m.\u001b[0m\u001b[0mdot\u001b[0m\u001b[0;34m(\u001b[0m\u001b[0mhidden_output\u001b[0m\u001b[0;34m.\u001b[0m\u001b[0mT\u001b[0m\u001b[0;34m,\u001b[0m\u001b[0mdelta_outout\u001b[0m\u001b[0;34m.\u001b[0m\u001b[0mT\u001b[0m\u001b[0;34m)\u001b[0m\u001b[0;34m\u001b[0m\u001b[0;34m\u001b[0m\u001b[0m\n\u001b[0m",
            "\u001b[0;32m<__array_function__ internals>\u001b[0m in \u001b[0;36mdot\u001b[0;34m(*args, **kwargs)\u001b[0m\n",
            "\u001b[0;31mValueError\u001b[0m: shapes (3,) and (8,) not aligned: 3 (dim 0) != 8 (dim 0)"
          ]
        }
      ]
    },
    {
      "cell_type": "code",
      "source": [
        "np.concatenate((hidden_outputs, np.ones((hidden_outputs.shape[0],1))),axis=1)"
      ],
      "metadata": {
        "colab": {
          "base_uri": "https://localhost:8080/"
        },
        "id": "OZmAlOys4_iW",
        "outputId": "86622963-e66b-4e05-df2d-a118a85678ef"
      },
      "execution_count": null,
      "outputs": [
        {
          "output_type": "execute_result",
          "data": {
            "text/plain": [
              "array([[0.5       , 0.5       , 0.5       , 0.5       , 0.5       ,\n",
              "        0.5       , 0.53661647, 0.95092041, 1.        ],\n",
              "       [0.5       , 0.5       , 0.5       , 0.5       , 0.5       ,\n",
              "        0.5       , 0.6308573 , 0.97996403, 1.        ],\n",
              "       [0.5       , 0.5       , 0.5       , 0.5       , 0.5       ,\n",
              "        0.5       , 0.69155333, 0.98520298, 1.        ]])"
            ]
          },
          "metadata": {},
          "execution_count": 6
        }
      ]
    },
    {
      "cell_type": "code",
      "source": [
        "###JOHANNA\n",
        "import numpy as np \n",
        "import matplotlib.pyplot as plt \n",
        "import pandas as pd\n",
        "def sigmoid(x): \n",
        "  return 1 / (1 + np.exp(-x))\n",
        "def sigmoid_prime(x): \n",
        "  y = sigmoid(x)\n",
        "  return y * (1 - y) \n",
        "\n",
        "class MLP: \n",
        "  def __init__(self , input_units , hidden_units , output_units): \n",
        "    self.weights1 = np.random.rand(hidden_units , input_units) \n",
        "    self.weights2 = np.random.rand(output_units , hidden_units + 1)\n",
        "  \n",
        "  \n",
        "  def train(self , inputs , targets , epochs): \n",
        "    for _ in range(epochs):\n",
        "      inputs = np.array(inputs , ndmin =2)\n",
        "      targets = np.array(targets , ndmin =2)\n",
        "\n",
        "\n",
        "      # Forward pass \n",
        "      hidden_inputs = np.dot(inputs , self.weights1.T) \n",
        "      hidden_outputs = sigmoid(hidden_inputs)\n",
        "      hidden_outputs = np.concatenate (( hidden_outputs , np.ones(( hidden_outputs.shape [0] ,1))) , axis =1)\n",
        "      final_inputs = np.dot(hidden_outputs , self.weights2.T) \n",
        "      final_outputs = sigmoid(final_inputs)\n",
        "      # Backward pass \n",
        "      error = targets - final_outputs \n",
        "      delta_output = error * sigmoid_prime(final_inputs) \n",
        "      delta_hidden = np.dot(delta_output , self.weights2 [:,:-1]) * sigmoid_prime( hidden_inputs) #print(error) \n",
        "      \n",
        "      # Update weights\n",
        "      print(\"hidden outputs:\",hidden_outputs)\n",
        "      print(\"delta_output.T\", delta_output.T)\n",
        "      self.weights2 += np.dot(delta_output.T, hidden_outputs) \n",
        "      self.weights1 += np.dot(delta_hidden.T, inputs)\n",
        "      #return error \n",
        "      \n",
        "  def predict(self , inputs): \n",
        "      inputs = np.array(inputs , ndmin =2)\n",
        "      hidden_inputs = np.dot(inputs , self.weights1.T) \n",
        "      hidden_outputs = sigmoid(hidden_inputs)\n",
        "      hidden_outputs = np.concatenate (( hidden_outputs , np.ones(( hidden_outputs.shape [0] ,1))), axis =1)\n",
        "      final_inputs = np.dot(hidden_outputs , self.weights2.T) \n",
        "      final_outputs = sigmoid(final_inputs)\n",
        "      return final_outputs"
      ],
      "metadata": {
        "id": "2aYlBJPFRzSp"
      },
      "execution_count": null,
      "outputs": []
    },
    {
      "cell_type": "code",
      "source": [
        "inputs = np.array([[0,0,0,0,0,0,0,1],\n",
        "          [0,0,0,0,0,0,1,0],\n",
        "          [0,0,0,0,0,1,0,0],\n",
        "          [0,0,0,0,1,0,0,0],\n",
        "          [0,0,0,1,0,0,0,0],\n",
        "          [0,0,1,0,0,0,0,0],\n",
        "          [0,1,0,0,0,0,0,0],\n",
        "          [1,0,0,0,0,0,0,0]])\n",
        "\n",
        "test = MLP(8,3,8)\n",
        "\n",
        "test.train(inputs, inputs, 1)\n",
        "\n",
        "test.predict(inputs)"
      ],
      "metadata": {
        "colab": {
          "base_uri": "https://localhost:8080/"
        },
        "id": "gQsTV2Zr7-N4",
        "outputId": "14be6961-df3d-4ab1-a473-ec7673b9516c"
      },
      "execution_count": null,
      "outputs": [
        {
          "output_type": "stream",
          "name": "stdout",
          "text": [
            "hidden outputs: [[0.67389965 0.72907617 0.59809798 1.        ]\n",
            " [0.66436757 0.66509138 0.63971692 1.        ]\n",
            " [0.70197807 0.70354318 0.53315034 1.        ]\n",
            " [0.50047264 0.70772126 0.52088635 1.        ]\n",
            " [0.54343851 0.51626053 0.57416332 1.        ]\n",
            " [0.53106475 0.72745953 0.73024433 1.        ]\n",
            " [0.57438436 0.66405453 0.65395751 1.        ]\n",
            " [0.61690001 0.65713837 0.57178222 1.        ]]\n",
            "delta_output.T [[-0.11487558 -0.11630888 -0.11708846 -0.12151608 -0.12598819 -0.11423363\n",
            "  -0.11786822  0.02554423]\n",
            " [-0.09103121 -0.09120153 -0.09539303 -0.09652383 -0.10068945 -0.08452669\n",
            "   0.01192963 -0.09530227]\n",
            " [-0.12250888 -0.12154388 -0.12342784 -0.13290753 -0.12951238  0.02935751\n",
            "  -0.12538958 -0.12617314]\n",
            " [-0.10479798 -0.10482617 -0.10797977 -0.11153631  0.02193953 -0.10111529\n",
            "  -0.10562099 -0.10883762]\n",
            " [-0.14377199 -0.14357073 -0.14440415  0.0644603  -0.14687717 -0.14434889\n",
            "  -0.1450025  -0.14547448]\n",
            " [-0.14397595 -0.14441631  0.05610525 -0.14572692 -0.14704672 -0.1427376\n",
            "  -0.14457091 -0.14545826]\n",
            " [-0.13875576  0.04432326 -0.14095385 -0.14151808 -0.14358158 -0.13512592\n",
            "  -0.13879754 -0.14103551]\n",
            " [ 0.03885105 -0.13309377 -0.13735511 -0.13824711 -0.1361769  -0.1293112\n",
            "  -0.1326961  -0.13604951]]\n"
          ]
        },
        {
          "output_type": "execute_result",
          "data": {
            "text/plain": [
              "array([[0.4538221 , 0.63756536, 0.39631386, 0.53444762, 0.2395931 ,\n",
              "        0.24105351, 0.28003596, 0.31556842],\n",
              "       [0.45239219, 0.64063885, 0.40525189, 0.5389395 , 0.24472554,\n",
              "        0.24191472, 0.2833213 , 0.32828499],\n",
              "       [0.45226658, 0.62540748, 0.39945012, 0.52775271, 0.24194763,\n",
              "        0.2405377 , 0.27486681, 0.30926902],\n",
              "       [0.45753523, 0.63972352, 0.38147899, 0.53583955, 0.23770293,\n",
              "        0.25636664, 0.29484411, 0.32893301],\n",
              "       [0.4511331 , 0.63440017, 0.41253506, 0.54064679, 0.25524143,\n",
              "        0.25549929, 0.29560141, 0.35573643],\n",
              "       [0.45768978, 0.66480691, 0.38919497, 0.55157335, 0.2371361 ,\n",
              "        0.24897352, 0.29923751, 0.3425218 ],\n",
              "       [0.4547881 , 0.64927349, 0.3978723 , 0.54417464, 0.24305251,\n",
              "        0.24893844, 0.29341611, 0.33975608],\n",
              "       [0.4532437 , 0.63466423, 0.39962434, 0.53522222, 0.24433313,\n",
              "        0.24725253, 0.2856222 , 0.32783398]])"
            ]
          },
          "metadata": {},
          "execution_count": 28
        }
      ]
    },
    {
      "cell_type": "code",
      "source": [
        "#Weights and balances start randomly\n",
        "weights_i2h = np.random.rand(3,8)\n",
        "    #3 (one for each hidden unit)\n",
        "    #8 units long (one for each input unit)\n",
        "weights_h2o = np.random.rand(8,3)\n",
        "    #8 (one for each output unit)\n",
        "    #3 units long (one for each input unit)\n",
        "    \n",
        "bias_hid = -1\n",
        "bias_out = -1\n",
        "\n",
        "\n",
        "inputs = np.array([[0,0,0,0,0,0,0,1],\n",
        "          [0,0,0,0,0,0,1,0],\n",
        "          [0,0,0,0,0,1,0,0],\n",
        "          [0,0,0,0,1,0,0,0],\n",
        "          [0,0,0,1,0,0,0,0],\n",
        "          [0,0,1,0,0,0,0,0],\n",
        "          [0,1,0,0,0,0,0,0],\n",
        "          [1,0,0,0,0,0,0,0]])\n",
        "expected_outputs = inputs\n",
        "\n",
        "#inputs = first_image\n",
        "#expected_outputs = first_image\n",
        "\n",
        "for _ in range(1000): \n",
        "    test = backprop(inputs, expected_outputs)\n",
        "    \n",
        "feedforward(inputs)\n",
        "    \n",
        "print(final_outputs)"
      ],
      "metadata": {
        "colab": {
          "base_uri": "https://localhost:8080/",
          "height": 391
        },
        "id": "5Uv160AEyhkE",
        "outputId": "4c901721-ed9b-4379-c45b-c299cd72662d"
      },
      "execution_count": null,
      "outputs": [
        {
          "output_type": "error",
          "ename": "ValueError",
          "evalue": "ignored",
          "traceback": [
            "\u001b[0;31m---------------------------------------------------------------------------\u001b[0m",
            "\u001b[0;31mValueError\u001b[0m                                Traceback (most recent call last)",
            "\u001b[0;32m<ipython-input-71-ced258f04aec>\u001b[0m in \u001b[0;36m<module>\u001b[0;34m\u001b[0m\n\u001b[1;32m     25\u001b[0m \u001b[0;34m\u001b[0m\u001b[0m\n\u001b[1;32m     26\u001b[0m \u001b[0;32mfor\u001b[0m \u001b[0m_\u001b[0m \u001b[0;32min\u001b[0m \u001b[0mrange\u001b[0m\u001b[0;34m(\u001b[0m\u001b[0;36m1000\u001b[0m\u001b[0;34m)\u001b[0m\u001b[0;34m:\u001b[0m\u001b[0;34m\u001b[0m\u001b[0;34m\u001b[0m\u001b[0m\n\u001b[0;32m---> 27\u001b[0;31m     \u001b[0mtest\u001b[0m \u001b[0;34m=\u001b[0m \u001b[0mbackprop\u001b[0m\u001b[0;34m(\u001b[0m\u001b[0minputs\u001b[0m\u001b[0;34m,\u001b[0m \u001b[0mexpected_outputs\u001b[0m\u001b[0;34m)\u001b[0m\u001b[0;34m\u001b[0m\u001b[0;34m\u001b[0m\u001b[0m\n\u001b[0m\u001b[1;32m     28\u001b[0m \u001b[0;34m\u001b[0m\u001b[0m\n\u001b[1;32m     29\u001b[0m \u001b[0mfeedforward\u001b[0m\u001b[0;34m(\u001b[0m\u001b[0minputs\u001b[0m\u001b[0;34m)\u001b[0m\u001b[0;34m\u001b[0m\u001b[0;34m\u001b[0m\u001b[0m\n",
            "\u001b[0;32m<ipython-input-61-f5bcb197b02e>\u001b[0m in \u001b[0;36mbackprop\u001b[0;34m(inp, expected_outputs)\u001b[0m\n\u001b[1;32m     36\u001b[0m     \u001b[0;32mglobal\u001b[0m \u001b[0mhidden_outputs\u001b[0m\u001b[0;34m\u001b[0m\u001b[0;34m\u001b[0m\u001b[0m\n\u001b[1;32m     37\u001b[0m \u001b[0;34m\u001b[0m\u001b[0m\n\u001b[0;32m---> 38\u001b[0;31m     \u001b[0mhidden_outputs\u001b[0m \u001b[0;34m=\u001b[0m \u001b[0msigmoid\u001b[0m\u001b[0;34m(\u001b[0m\u001b[0mnp\u001b[0m\u001b[0;34m.\u001b[0m\u001b[0mdot\u001b[0m\u001b[0;34m(\u001b[0m\u001b[0mweights_inp_to_hid\u001b[0m\u001b[0;34m,\u001b[0m \u001b[0minp\u001b[0m\u001b[0;34m)\u001b[0m \u001b[0;34m+\u001b[0m \u001b[0mbias_hid\u001b[0m\u001b[0;34m)\u001b[0m\u001b[0;34m\u001b[0m\u001b[0;34m\u001b[0m\u001b[0m\n\u001b[0m\u001b[1;32m     39\u001b[0m     \u001b[0mfinal_outputs\u001b[0m \u001b[0;34m=\u001b[0m \u001b[0msigmoid\u001b[0m\u001b[0;34m(\u001b[0m\u001b[0mnp\u001b[0m\u001b[0;34m.\u001b[0m\u001b[0mdot\u001b[0m\u001b[0;34m(\u001b[0m\u001b[0mweights_hid_to_out\u001b[0m\u001b[0;34m,\u001b[0m \u001b[0mhidden_outputs\u001b[0m\u001b[0;34m)\u001b[0m \u001b[0;34m+\u001b[0m \u001b[0mbias_out\u001b[0m\u001b[0;34m)\u001b[0m\u001b[0;34m\u001b[0m\u001b[0;34m\u001b[0m\u001b[0m\n\u001b[1;32m     40\u001b[0m     \u001b[0moutput_errors\u001b[0m \u001b[0;34m=\u001b[0m \u001b[0mexpected_outputs\u001b[0m \u001b[0;34m-\u001b[0m \u001b[0mfinal_outputs\u001b[0m\u001b[0;34m\u001b[0m\u001b[0;34m\u001b[0m\u001b[0m\n",
            "\u001b[0;32m<__array_function__ internals>\u001b[0m in \u001b[0;36mdot\u001b[0;34m(*args, **kwargs)\u001b[0m\n",
            "\u001b[0;31mValueError\u001b[0m: shapes (3,8) and (7,8) not aligned: 8 (dim 1) != 7 (dim 0)"
          ]
        }
      ]
    },
    {
      "cell_type": "code",
      "source": [
        "first_image = x_train[0]\n",
        "first_image = first_image.flatten()\n",
        "print(first_image.shape)\n",
        "\n",
        "\n",
        "\n",
        "\n",
        "\n",
        "first_image_r = first_image.reshape((28,28))\n",
        "plt.imshow( x_train[0], cmap='gray')\n",
        "plt.show()"
      ],
      "metadata": {
        "colab": {
          "base_uri": "https://localhost:8080/",
          "height": 282
        },
        "id": "gtEgZ_Rz1eWe",
        "outputId": "99f01609-8729-4637-ac13-d6de08745d5d"
      },
      "execution_count": null,
      "outputs": [
        {
          "output_type": "stream",
          "name": "stdout",
          "text": [
            "(784,)\n"
          ]
        },
        {
          "output_type": "display_data",
          "data": {
            "text/plain": [
              "<Figure size 432x288 with 1 Axes>"
            ],
            "image/png": "[encoded data removed]"
          },
          "metadata": {
            "needs_background": "light"
          }
        }
      ]
    },
    {
      "cell_type": "code",
      "source": [
        "img = cv2.imread(\"/content/drive/MyDrive/cat50.jpg\")\n",
        "#plt.plot(img)\n",
        "\n",
        "# Convert the RGB image to grayscale\n",
        "gray = cv2.cvtColor(img, cv2.COLOR_BGR2GRAY)\n",
        "\n",
        "# Convert the image to a numpy array\n",
        "img_np1 = np.array(gray)\n",
        "img_np1 = img_np1.ravel()\n",
        "img_np = to_categorical(img_np1, num_classes = 256)\n",
        "#cv2_imshow(gray)\n",
        "img_np.shape\n",
        "gray.shape"
      ],
      "metadata": {
        "id": "i5ksuhnEWkGK",
        "colab": {
          "base_uri": "https://localhost:8080/"
        },
        "outputId": "60486989-cf25-4b72-c0df-7299a07fde50"
      },
      "execution_count": 110,
      "outputs": [
        {
          "output_type": "execute_result",
          "data": {
            "text/plain": [
              "(50, 50)"
            ]
          },
          "metadata": {},
          "execution_count": 110
        }
      ]
    },
    {
      "cell_type": "code",
      "source": [
        "#IT COULD BE AN IDEA TO ENCODE THE BITS IN A CATEGORICAL WAY\n",
        "#I DO NOT HTIK THIS IS THE WAY\n",
        "from tensorflow.keras.utils import to_categorical\n",
        "import numpy as np\n",
        "#img_np2 = img_np1.ravel()\n",
        "#print(img_np2[1:10])\n",
        "#test = np.array([24,2])\n",
        "input_test = to_categorical(first_image, num_classes = 256)\n",
        "\n",
        "#for i in input_test:\n",
        "  #print(np.argmax(i))\n",
        "\n",
        "\n",
        "\n",
        "train_255 = range(0,256)\n",
        "train_255 = to_categorical(train_255, num_classes = 256)\n",
        "\n",
        "print(train_255.shape)\n",
        "print(len(train_255[0]))\n",
        "\n",
        "\n",
        "print(train_255[0])\n",
        "print(np.argmax(train_255[0]))\n",
        "#weights_i2h, weights_h2o, d_Error_plot = train(train_255,16,200)\n",
        "\n"
      ],
      "metadata": {
        "id": "gKSpES_HwnQO",
        "colab": {
          "base_uri": "https://localhost:8080/"
        },
        "outputId": "f186dc2d-e1b8-4335-92b8-b5ac760acc64"
      },
      "execution_count": null,
      "outputs": [
        {
          "output_type": "stream",
          "name": "stdout",
          "text": [
            "(256, 256)\n",
            "256\n",
            "[1. 0. 0. 0. 0. 0. 0. 0. 0. 0. 0. 0. 0. 0. 0. 0. 0. 0. 0. 0. 0. 0. 0. 0.\n",
            " 0. 0. 0. 0. 0. 0. 0. 0. 0. 0. 0. 0. 0. 0. 0. 0. 0. 0. 0. 0. 0. 0. 0. 0.\n",
            " 0. 0. 0. 0. 0. 0. 0. 0. 0. 0. 0. 0. 0. 0. 0. 0. 0. 0. 0. 0. 0. 0. 0. 0.\n",
            " 0. 0. 0. 0. 0. 0. 0. 0. 0. 0. 0. 0. 0. 0. 0. 0. 0. 0. 0. 0. 0. 0. 0. 0.\n",
            " 0. 0. 0. 0. 0. 0. 0. 0. 0. 0. 0. 0. 0. 0. 0. 0. 0. 0. 0. 0. 0. 0. 0. 0.\n",
            " 0. 0. 0. 0. 0. 0. 0. 0. 0. 0. 0. 0. 0. 0. 0. 0. 0. 0. 0. 0. 0. 0. 0. 0.\n",
            " 0. 0. 0. 0. 0. 0. 0. 0. 0. 0. 0. 0. 0. 0. 0. 0. 0. 0. 0. 0. 0. 0. 0. 0.\n",
            " 0. 0. 0. 0. 0. 0. 0. 0. 0. 0. 0. 0. 0. 0. 0. 0. 0. 0. 0. 0. 0. 0. 0. 0.\n",
            " 0. 0. 0. 0. 0. 0. 0. 0. 0. 0. 0. 0. 0. 0. 0. 0. 0. 0. 0. 0. 0. 0. 0. 0.\n",
            " 0. 0. 0. 0. 0. 0. 0. 0. 0. 0. 0. 0. 0. 0. 0. 0. 0. 0. 0. 0. 0. 0. 0. 0.\n",
            " 0. 0. 0. 0. 0. 0. 0. 0. 0. 0. 0. 0. 0. 0. 0. 0.]\n",
            "0\n"
          ]
        }
      ]
    },
    {
      "cell_type": "code",
      "source": [
        "import numpy as np\n",
        "\n",
        "def sigmoid(x):\n",
        "    sigm = 1/(1+np.exp(-x))\n",
        "    return sigm\n",
        "\n",
        "def sigm_prime(x):\n",
        "    sigm_prim = x*(1-x) #this is different from the R code, don't know if it's right\n",
        "    return sigm_prim\n",
        "\n",
        "def train(inputs,hidden_num, epochs):\n",
        "  \n",
        "  #Weights and balances start randomly\n",
        "  #print(inputs.shape[1])\n",
        "  weights_i2h = np.random.rand(inputs.shape[1],hidden_num)\n",
        "    #3 (one for each hidden unit)\n",
        "    #8 units long (one for each input unit)\n",
        "  weights_h2o = np.random.rand(hidden_num,inputs.shape[1])\n",
        "    #8 (one for each output unit)\n",
        "    #3 units long (one for each input unit)\n",
        "#learning = True\n",
        "\n",
        "\n",
        "  d_Error_plot = list()\n",
        "  for _ in range(epochs):\n",
        "    d_Error = list()\n",
        "   # d_Error_round = list()\n",
        "    for input in inputs:\n",
        "      #print(input)\n",
        "      target_output = input\n",
        "      #print(input)\n",
        "      hidden_input = np.dot(input,weights_i2h)\n",
        "      \n",
        "      hidden_output = sigmoid(hidden_input)\n",
        "      final_input =  np.dot(hidden_output,weights_h2o)\n",
        "      final_output = sigmoid(final_input) \n",
        "\n",
        "      delta_kt = target_output - final_output #1x8\n",
        "      \n",
        "      #d_Error = np.mean(np.abs(delta_kt))\n",
        "      d_Error.append(np.mean(np.abs(delta_kt)))\n",
        "\n",
        "      delta_output = delta_kt * sigm_prime(final_output)\n",
        "      delta_hidden = np.dot(delta_output,weights_h2o.T) * sigm_prime(hidden_output)\n",
        "\n",
        "      weights_h2o += np.dot(hidden_output.reshape(hidden_num,1), delta_output.reshape(1,inputs.shape[1]))\n",
        "      weights_i2h += np.dot(input.reshape(inputs.shape[1],1), delta_hidden.reshape(1,hidden_num))\n",
        "\n",
        "    d_Error_plot.append(np.mean(np.abs(d_Error)))\n",
        "  return weights_i2h, weights_h2o, d_Error_plot\n",
        "\n",
        "#weights_i2h, weights_h2o, d_Error_plot = train(input_test,200,1)\n",
        "\n",
        "weights_i2h, weights_h2o, d_Error_plot = train(train_255,16,5000)\n",
        "\n"
      ],
      "metadata": {
        "id": "cY_QdXVwOfbI"
      },
      "execution_count": 114,
      "outputs": []
    },
    {
      "cell_type": "code",
      "source": [
        "import matplotlib.pyplot as plt\n",
        "\n",
        "def autoencoder(input):\n",
        "    hidden_layer = sigmoid(np.dot(input,weights_i2h))\n",
        "    outputs = sigmoid(np.dot(hidden_layer, weights_h2o))\n",
        "    return(hidden_layer,outputs)\n",
        "\n",
        "hidden_layers = []\n",
        "outputs_list = []\n",
        "hidden_pixels = []\n",
        "\n",
        "for i in input_test:\n",
        "  #print(i)\n",
        "  hidden_layer, outputs = autoencoder(i)\n",
        "  hidden_layers.append(hidden_layer)\n",
        "  hidden_pixels.append(np.argmax(hidden_layer))\n",
        "  outputs_list.append(np.argmax(outputs))\n",
        "  #print(np.argmax(i))\n",
        "  \n",
        "\n",
        "outputs_list = np.array(outputs_list)\n",
        "image_predicted = outputs_list.reshape(28,28)\n",
        "plt.imshow(image_predicted, cmap = \"gray\")\n",
        "plt.show()\n",
        "print(max(outputs_list))\n",
        "print(min(outputs_list))\n",
        "#print(np.argmax(outputs_list[1]))\n",
        "\n",
        "hidden_pixels = np.array(hidden_pixels)\n",
        "image_hidden_predicted = hidden_pixels.reshape(28,28)\n",
        "#print(hidden_pixels.shape)\n",
        "\n",
        "plt.imshow(image_hidden_predicted, cmap = \"gray\")\n",
        "plt.show()\n",
        "print(max(hidden_pixels))\n",
        "print(min(hidden_pixels))\n",
        "hidden_layer, outputs = autoencoder(input_test[0])\n",
        "\n",
        "#print(inputs[o])\n",
        "#print(outputs)\n",
        "plt.plot(d_Error_plot)\n",
        "plt.show()"
      ],
      "metadata": {
        "colab": {
          "base_uri": "https://localhost:8080/",
          "height": 830
        },
        "id": "2VxNkWWcKKaX",
        "outputId": "298316dc-f3e5-4c12-ea0e-63ce6867f515"
      },
      "execution_count": 115,
      "outputs": [
        {
          "output_type": "display_data",
          "data": {
            "text/plain": [
              "<Figure size 432x288 with 1 Axes>"
            ],
            "image/png": "[encoded data removed]"
          },
          "metadata": {
            "needs_background": "light"
          }
        },
        {
          "output_type": "stream",
          "name": "stdout",
          "text": [
            "255\n",
            "0\n"
          ]
        },
        {
          "output_type": "display_data",
          "data": {
            "text/plain": [
              "<Figure size 432x288 with 1 Axes>"
            ],
            "image/png": "[encoded data removed]"
          },
          "metadata": {
            "needs_background": "light"
          }
        },
        {
          "output_type": "stream",
          "name": "stdout",
          "text": [
            "15\n",
            "0\n"
          ]
        },
        {
          "output_type": "display_data",
          "data": {
            "text/plain": [
              "<Figure size 432x288 with 1 Axes>"
            ],
            "image/png": "[encoded data removed]"
          },
          "metadata": {
            "needs_background": "light"
          }
        }
      ]
    },
    {
      "cell_type": "code",
      "source": [
        "import matplotlib.pyplot as plt\n",
        "\n",
        "def autoencoder(input):\n",
        "    hidden_layer = sigmoid(np.dot(input,weights_i2h))\n",
        "    outputs = sigmoid(np.dot(hidden_layer, weights_h2o))\n",
        "    return(hidden_layer,outputs)\n",
        "\n",
        "hidden_layers = []\n",
        "outputs_list = []\n",
        "hidden_pixels = []\n",
        "\n",
        "for i in img_np:\n",
        "  #print(i)\n",
        "  hidden_layer, outputs = autoencoder(i)\n",
        "  hidden_layers.append(hidden_layer)\n",
        "  hidden_pixels.append(np.argmax(hidden_layer))\n",
        "  outputs_list.append(np.argmax(outputs))\n",
        "  #print(np.argmax(i))\n",
        "  \n",
        "\n",
        "outputs_list = np.array(outputs_list)\n",
        "image_predicted = outputs_list.reshape(50,50)\n",
        "plt.imshow(image_predicted, cmap = \"gray\")\n",
        "plt.show()\n",
        "print(max(outputs_list))\n",
        "print(min(outputs_list))\n",
        "#print(np.argmax(outputs_list[1]))\n",
        "\n",
        "hidden_pixels = np.array(hidden_pixels)\n",
        "image_hidden_predicted = hidden_pixels.reshape(50,50)\n",
        "#print(hidden_pixels.shape)\n",
        "\n",
        "plt.imshow(image_hidden_predicted, cmap = \"gray\")\n",
        "plt.show()\n",
        "print(max(hidden_pixels))\n",
        "print(min(hidden_pixels))\n",
        "hidden_layer, outputs = autoencoder(input_test[0])\n",
        "\n",
        "#print(inputs[o])\n",
        "#print(outputs)\n",
        "plt.plot(d_Error_plot)\n",
        "plt.show()"
      ],
      "metadata": {
        "colab": {
          "base_uri": "https://localhost:8080/",
          "height": 834
        },
        "id": "rvkDlxhvXbcZ",
        "outputId": "97815ab7-4b31-41fd-f7d0-dddc55cb1ded"
      },
      "execution_count": 116,
      "outputs": [
        {
          "output_type": "display_data",
          "data": {
            "text/plain": [
              "<Figure size 432x288 with 1 Axes>"
            ],
            "image/png": "[encoded data removed]"
          },
          "metadata": {
            "needs_background": "light"
          }
        },
        {
          "output_type": "stream",
          "name": "stdout",
          "text": [
            "251\n",
            "1\n"
          ]
        },
        {
          "output_type": "display_data",
          "data": {
            "text/plain": [
              "<Figure size 432x288 with 1 Axes>"
            ],
            "image/png": "[encoded data removed]"
          },
          "metadata": {
            "needs_background": "light"
          }
        },
        {
          "output_type": "stream",
          "name": "stdout",
          "text": [
            "15\n",
            "0\n"
          ]
        },
        {
          "output_type": "display_data",
          "data": {
            "text/plain": [
              "<Figure size 432x288 with 1 Axes>"
            ],
            "image/png": "[encoded data removed]"
          },
          "metadata": {
            "needs_background": "light"
          }
        }
      ]
    },
    {
      "cell_type": "markdown",
      "source": [
        "# PERCEPTRON LATEST DRAFT"
      ],
      "metadata": {
        "id": "kLIcx9zIwn38"
      }
    },
    {
      "cell_type": "code",
      "source": [
        "import numpy as np\n",
        "\n",
        "def sigmoid(x):\n",
        "    sigm = 1/(1+np.exp(-x))\n",
        "    return sigm\n",
        "\n",
        "def sigm_prime(x):\n",
        "    sigm_prim = x*(1-x) #this is different from the R code, don't know if it's right\n",
        "    return sigm_prim\n",
        "\n",
        "\n",
        "inputs = np.array([[1,0,0,0,0,0,0,0],\n",
        "          [0,1,0,0,0,0,0,0],\n",
        "          [0,0,1,0,0,0,0,0],\n",
        "          [0,0,0,1,0,0,0,0],\n",
        "          [0,0,0,0,1,0,0,0],\n",
        "          [0,0,0,0,0,1,0,0],\n",
        "          [0,0,0,0,0,0,1,0],\n",
        "          [0,0,0,0,0,0,0,1]])\n",
        "\n",
        "def train(inputs,hidden_num, epochs):\n",
        "  #Weights and balances start randomly\n",
        "  weights_i2h = np.random.rand(inputs.shape[1],hidden_num)\n",
        "    #3 (one for each hidden unit)\n",
        "    #8 units long (one for each input unit)\n",
        "  weights_h2o = np.random.rand(hidden_num,inputs.shape[1])\n",
        "    #8 (one for each output unit)\n",
        "    #3 units long (one for each input unit)\n",
        "#learning = True\n",
        "\n",
        "\n",
        "  d_Error_plot = list()\n",
        "  for _ in range(epochs):\n",
        "    d_Error = list()\n",
        "   # d_Error_round = list()\n",
        "    for input in inputs:\n",
        "      #print(input)\n",
        "      target_output = input\n",
        "      #print(input)\n",
        "      hidden_input = np.dot(input,weights_i2h)\n",
        "      \n",
        "      hidden_output = sigmoid(hidden_input)\n",
        "      final_input =  np.dot(hidden_output,weights_h2o)\n",
        "      final_output = sigmoid(final_input) \n",
        "\n",
        "      delta_kt = target_output - final_output #1x8\n",
        "      \n",
        "      #d_Error = np.mean(np.abs(delta_kt))\n",
        "      d_Error.append(np.mean(np.abs(delta_kt)))\n",
        "\n",
        "      delta_output = delta_kt * sigm_prime(final_output)\n",
        "      delta_hidden = np.dot(delta_output,weights_h2o.T) * sigm_prime(hidden_output)\n",
        "\n",
        "      weights_h2o += np.dot(hidden_output.reshape(hidden_num,1), delta_output.reshape(1,inputs.shape[1]))\n",
        "      weights_i2h += np.dot(input.reshape(inputs.shape[1],1), delta_hidden.reshape(1,hidden_num))\n",
        "\n",
        "    d_Error_plot.append(np.mean(np.abs(d_Error)))\n",
        "  return weights_i2h, weights_h2o, d_Error_plot\n",
        "\n",
        "\n",
        "weights_i2h, weights_h2o, d_Error_plot = train(inputs,3,1000)"
      ],
      "metadata": {
        "id": "Datf4rxUwr90"
      },
      "execution_count": null,
      "outputs": []
    },
    {
      "cell_type": "code",
      "source": [
        "import matplotlib.pyplot as plt\n",
        "\n",
        "def autoencoder(input):\n",
        "    hidden_layer = sigmoid(np.dot(input,weights_i2h))\n",
        "    outputs = sigmoid(np.dot(hidden_layer, weights_h2o))\n",
        "    return(hidden_layer,outputs)\n",
        "\n",
        "hidden_layer, outputs = autoencoder(inputs[5])\n",
        "#print(inputs[o])\n",
        "#print(outputs)\n",
        "plt.plot(outputs)"
      ],
      "metadata": {
        "id": "qQCI49W0xGG0",
        "colab": {
          "base_uri": "https://localhost:8080/",
          "height": 282
        },
        "outputId": "b85c6a95-4739-423c-b808-53350eb19808"
      },
      "execution_count": null,
      "outputs": [
        {
          "output_type": "execute_result",
          "data": {
            "text/plain": [
              "[<matplotlib.lines.Line2D at 0x7ff210da2a00>]"
            ]
          },
          "metadata": {},
          "execution_count": 70
        },
        {
          "output_type": "display_data",
          "data": {
            "text/plain": [
              "<Figure size 432x288 with 1 Axes>"
            ],
            "image/png": "[encoded data removed]"
          },
          "metadata": {
            "needs_background": "light"
          }
        }
      ]
    },
    {
      "cell_type": "code",
      "source": [
        "  plt.plot(range(1000), d_Error_plot)\n",
        "  plt.xlabel('Epoch')\n",
        "  plt.ylabel('Error')\n",
        "  plt.show()"
      ],
      "metadata": {
        "colab": {
          "base_uri": "https://localhost:8080/",
          "height": 279
        },
        "id": "VeV2BWmpw3Kb",
        "outputId": "62711371-fcee-4c34-b85b-3983f3b95f1d"
      },
      "execution_count": null,
      "outputs": [
        {
          "output_type": "display_data",
          "data": {
            "text/plain": [
              "<Figure size 432x288 with 1 Axes>"
            ],
            "image/png": "[encoded data removed]"
          },
          "metadata": {
            "needs_background": "light"
          }
        }
      ]
    },
    {
      "cell_type": "code",
      "source": [
        "from google.colab import drive\n",
        "drive.mount('/content/drive')"
      ],
      "metadata": {
        "colab": {
          "base_uri": "https://localhost:8080/"
        },
        "id": "6bOR2S7Hymz8",
        "outputId": "5fb22274-b029-4702-9287-6c41d117ba78"
      },
      "execution_count": null,
      "outputs": [
        {
          "output_type": "stream",
          "name": "stdout",
          "text": [
            "Drive already mounted at /content/drive; to attempt to forcibly remount, call drive.mount(\"/content/drive\", force_remount=True).\n"
          ]
        }
      ]
    },
    {
      "cell_type": "code",
      "source": [
        "#import numpy as np\n",
        "import cv2\n",
        "from google.colab.patches import cv2_imshow\n",
        "import numpy as np\n",
        "\n",
        "# Load the image\n",
        "img = cv2.imread(\"/content/drive/MyDrive/cat50.jpg\")\n",
        "#plt.plot(img)\n",
        "\n",
        "# Convert the RGB image to grayscale\n",
        "gray = cv2.cvtColor(img, cv2.COLOR_BGR2GRAY)\n",
        "\n",
        "\n",
        "output_array = np.array([[0,0,0,0,0,0,0,0,0,1],\n",
        "                        [0,0,0,0,0,0,0,0,1,1],\n",
        "                        [0,0,0,0,0,0,0,1,1,1],\n",
        "                        [0,0,0,0,0,0,1,1,1,1],\n",
        "                        [0,0,0,0,0,1,1,1,1,1],\n",
        "                        [0,0,0,0,1,1,1,1,1,1],\n",
        "                        [0,0,0,1,1,1,1,1,1,1],\n",
        "                        [0,0,1,1,1,1,1,1,1,1],\n",
        "                        [0,1,1,1,1,1,1,1,1,1],\n",
        "                        [1,1,1,1,1,1,1,1,1,1]])\n",
        "\n",
        "\n",
        "# Convert the image to a numpy array\n",
        "img_np1 = np.array(gray)\n",
        "img_np = img_np1/255\n",
        "#cv2_imshow(gray)\n",
        "plt.imshow(output_array)\n",
        "img_np.shape\n",
        "\n",
        "print(img_np[0:100])\n",
        "#output_array = np.reshape(img_np, (1, -1))\n",
        "#output_array = img_np\n",
        "output_array = output_array.ravel()\n",
        "output_array.shape\n",
        "print(output_array)"
      ],
      "metadata": {
        "colab": {
          "base_uri": "https://localhost:8080/",
          "height": 439
        },
        "id": "S3i0wN0k7cnR",
        "outputId": "771bc472-af77-450d-b695-22553f73550f"
      },
      "execution_count": null,
      "outputs": [
        {
          "output_type": "stream",
          "name": "stdout",
          "text": [
            "[[0.78431373 0.80784314 0.79215686 ... 0.85882353 0.83529412 0.83529412]\n",
            " [0.78431373 0.80784314 0.8        ... 0.83529412 0.84705882 0.84705882]\n",
            " [0.79607843 0.81176471 0.80784314 ... 0.83921569 0.85490196 0.85490196]\n",
            " ...\n",
            " [0.87058824 0.8745098  0.87843137 ... 0.10588235 0.09019608 0.09019608]\n",
            " [0.86666667 0.86666667 0.87058824 ... 0.09803922 0.0745098  0.09803922]\n",
            " [0.86666667 0.86666667 0.87058824 ... 0.0627451  0.05098039 0.0745098 ]]\n",
            "[0 0 0 0 0 0 0 0 0 1 0 0 0 0 0 0 0 0 1 1 0 0 0 0 0 0 0 1 1 1 0 0 0 0 0 0 1\n",
            " 1 1 1 0 0 0 0 0 1 1 1 1 1 0 0 0 0 1 1 1 1 1 1 0 0 0 1 1 1 1 1 1 1 0 0 1 1\n",
            " 1 1 1 1 1 1 0 1 1 1 1 1 1 1 1 1 1 1 1 1 1 1 1 1 1 1]\n"
          ]
        },
        {
          "output_type": "display_data",
          "data": {
            "text/plain": [
              "<Figure size 432x288 with 1 Axes>"
            ],
            "image/png": "[encoded data removed]"
          },
          "metadata": {
            "needs_background": "light"
          }
        }
      ]
    },
    {
      "cell_type": "code",
      "source": [
        "import numpy as np\n",
        "\n",
        "#inputs = output_array\n",
        "\n",
        "bias_i2h = np.random.rand(1000) * 0.1\n",
        "bias_h2o = np.random.rand(2500) * 0.1\n",
        "\n",
        "#output_array = img_np.ravel()\n",
        "\n",
        "output_array = np.array([[0,0,0,0,0,0,0,0,0,1],\n",
        "                         [0,0,0,0,0,0,0,0,1,1],\n",
        "                         [0,0,0,0,0,0,0,1,1,1],\n",
        "                         [0,0,0,0,0,0,1,1,1,1],\n",
        "                         [0,0,0,0,0,1,1,1,1,1],\n",
        "                         [0,0,0,0,1,1,1,1,1,1],\n",
        "                         [0,0,0,1,1,1,1,1,1,1],\n",
        "                         [0,0,1,1,1,1,1,1,1,1],\n",
        "                         [0,1,1,1,1,1,1,1,1,1],\n",
        "                         [1,1,1,1,1,1,1,1,1,1]])\n",
        "\n",
        "#print(output_array.shape)\n",
        "\n",
        "def sigmoid(x):\n",
        "    sigm = 1/(1+np.exp(-x))\n",
        "    return sigm\n",
        "\n",
        "def sigm_prime(x):\n",
        "    sigm_prim = x*(1-x) #this is different from the R code, don't know if it's right\n",
        "    return sigm_prim\n",
        "\n",
        "def encoder(img):\n",
        "  return sigmoid(np.dot(img,weights_i2h)+bias_i2h)\n",
        "\n",
        "def decoder(img):\n",
        "  return sigmoid(np.dot(img, weights_h2o)+ bias_h2o)\n",
        "\n",
        "def train(img,hidden_num, epochs):\n",
        "  #Weights and balances start randomly\n",
        "  weights_i2h = np.random.rand(2500,hidden_num)\n",
        "    #3 (one for each hidden unit)\n",
        "    #8 units long (one for each input unit)\n",
        "  weights_h2o = np.random.rand(hidden_num,2500)\n",
        "    #8 (one for each output unit)\n",
        "    #3 units long (one for each input unit)\n",
        "\n",
        "  bias_i2h = np.random.rand(hidden_num) * 0.1\n",
        "  bias_h2o = np.random.rand(2500) * 0.1\n",
        "#learning = True\n",
        "  threshold = 0.5\n",
        "\n",
        "  d_Error_plot = list()\n",
        "  precisions = list()\n",
        "  for _ in range(epochs):\n",
        "    #d_Error = list()\n",
        "   # d_Error_round = list()\n",
        "    #for input in inputs:\n",
        "      #print(input)\n",
        "    #target_output = input\n",
        "      #print(input)\n",
        "    #hidden_input = np.dot(input,weights_i2h)\n",
        "      \n",
        "    #hidden_output = sigmoid(hidden_input)\n",
        "    encoded = encoder(img)\n",
        "\n",
        "\n",
        "    #final_input =  np.dot(hidden_output,weights_h2o)\n",
        "    #final_output = sigmoid(final_input)\n",
        "    decoded = decoder(encoded)\n",
        "\n",
        "    #delta_kt = target_output - final_output #1x8\n",
        "    error = img - decoded\n",
        "    mean_sq_e = np.mean(error**2)\n",
        "    d_Error_plot.append(mean_sq_e)\n",
        "    #or:\n",
        "    #d_Error_plot.append(np.mean(np.abs(error)))\n",
        "    #print(delta_kt)  \n",
        "    #print( np.mean(np.abs(delta_kt)))\n",
        "\n",
        "    #d_Error = np.mean(np.abs(delta_kt))\n",
        "    #d_Error = np.mean(np.abs(delta_kt))\n",
        "\n",
        "    ###PRECISION\n",
        "    correct_predictions = np.sum((decoded > threshold) == img)\n",
        "    precision = correct_predictions / len(img)\n",
        "    precisions.append(precision)\n",
        "\n",
        "    #delta_output = delta_kt * sigm_prime(final_output)\n",
        "    delta_output = np.dot(encoded.reshape(hidden_num,1), (error * sigm_prime(decoded).reshape(1,2500)))\n",
        "    \n",
        "    #delta_hidden = np.dot(delta_output,weights_h2o.T) * sigm_prime(hidden_output)\n",
        "    error = np.dot(error,weights_h2o.T)\n",
        "    delta_hidden = np.dot(img.reshape(2500,1), (error * sigm_prime(encoded)).reshape(1,hidden_num))\n",
        "    #delta_hidden = np.dot(img.T, error*sigm_prime(encoded))\n",
        "\n",
        "    #weights_h2o += np.dot(hidden_output.reshape(hidden_num,1), delta_output.reshape(1,2500))\n",
        "    #weights_i2h += np.dot(img.reshape(2500,1), delta_hidden.reshape(1,hidden_num))\n",
        "    weights_i2h += delta_hidden\n",
        "    weights_h2o += delta_output\n",
        "    #d_Error_plot.append(d_Error)\n",
        "  return weights_i2h, weights_h2o, d_Error_plot\n",
        "\n",
        "\n",
        "weights_i2h, weights_h2o, d_Error_plot = train(output_array,1000,100)"
      ],
      "metadata": {
        "id": "TSHPHUowjVC8",
        "colab": {
          "base_uri": "https://localhost:8080/",
          "height": 398
        },
        "outputId": "d093a811-03de-4793-a676-d88c9a3e8887"
      },
      "execution_count": null,
      "outputs": [
        {
          "output_type": "error",
          "ename": "ValueError",
          "evalue": "ignored",
          "traceback": [
            "\u001b[0;31m---------------------------------------------------------------------------\u001b[0m",
            "\u001b[0;31mValueError\u001b[0m                                Traceback (most recent call last)",
            "\u001b[0;32m<ipython-input-60-c2e8df8b0b15>\u001b[0m in \u001b[0;36m<module>\u001b[0;34m\u001b[0m\n\u001b[1;32m    101\u001b[0m \u001b[0;34m\u001b[0m\u001b[0m\n\u001b[1;32m    102\u001b[0m \u001b[0;34m\u001b[0m\u001b[0m\n\u001b[0;32m--> 103\u001b[0;31m \u001b[0mweights_i2h\u001b[0m\u001b[0;34m,\u001b[0m \u001b[0mweights_h2o\u001b[0m\u001b[0;34m,\u001b[0m \u001b[0md_Error_plot\u001b[0m \u001b[0;34m=\u001b[0m \u001b[0mtrain\u001b[0m\u001b[0;34m(\u001b[0m\u001b[0moutput_array\u001b[0m\u001b[0;34m,\u001b[0m\u001b[0;36m1000\u001b[0m\u001b[0;34m,\u001b[0m\u001b[0;36m100\u001b[0m\u001b[0;34m)\u001b[0m\u001b[0;34m\u001b[0m\u001b[0;34m\u001b[0m\u001b[0m\n\u001b[0m",
            "\u001b[0;32m<ipython-input-60-c2e8df8b0b15>\u001b[0m in \u001b[0;36mtrain\u001b[0;34m(img, hidden_num, epochs)\u001b[0m\n\u001b[1;32m     61\u001b[0m \u001b[0;34m\u001b[0m\u001b[0m\n\u001b[1;32m     62\u001b[0m     \u001b[0;31m#hidden_output = sigmoid(hidden_input)\u001b[0m\u001b[0;34m\u001b[0m\u001b[0;34m\u001b[0m\u001b[0;34m\u001b[0m\u001b[0m\n\u001b[0;32m---> 63\u001b[0;31m     \u001b[0mencoded\u001b[0m \u001b[0;34m=\u001b[0m \u001b[0mencoder\u001b[0m\u001b[0;34m(\u001b[0m\u001b[0mimg\u001b[0m\u001b[0;34m)\u001b[0m\u001b[0;34m\u001b[0m\u001b[0;34m\u001b[0m\u001b[0m\n\u001b[0m\u001b[1;32m     64\u001b[0m \u001b[0;34m\u001b[0m\u001b[0m\n\u001b[1;32m     65\u001b[0m \u001b[0;34m\u001b[0m\u001b[0m\n",
            "\u001b[0;32m<ipython-input-60-c2e8df8b0b15>\u001b[0m in \u001b[0;36mencoder\u001b[0;34m(img)\u001b[0m\n\u001b[1;32m     30\u001b[0m \u001b[0;34m\u001b[0m\u001b[0m\n\u001b[1;32m     31\u001b[0m \u001b[0;32mdef\u001b[0m \u001b[0mencoder\u001b[0m\u001b[0;34m(\u001b[0m\u001b[0mimg\u001b[0m\u001b[0;34m)\u001b[0m\u001b[0;34m:\u001b[0m\u001b[0;34m\u001b[0m\u001b[0;34m\u001b[0m\u001b[0m\n\u001b[0;32m---> 32\u001b[0;31m   \u001b[0;32mreturn\u001b[0m \u001b[0msigmoid\u001b[0m\u001b[0;34m(\u001b[0m\u001b[0mnp\u001b[0m\u001b[0;34m.\u001b[0m\u001b[0mdot\u001b[0m\u001b[0;34m(\u001b[0m\u001b[0mimg\u001b[0m\u001b[0;34m,\u001b[0m\u001b[0mweights_i2h\u001b[0m\u001b[0;34m)\u001b[0m\u001b[0;34m+\u001b[0m\u001b[0mbias_i2h\u001b[0m\u001b[0;34m)\u001b[0m\u001b[0;34m\u001b[0m\u001b[0;34m\u001b[0m\u001b[0m\n\u001b[0m\u001b[1;32m     33\u001b[0m \u001b[0;34m\u001b[0m\u001b[0m\n\u001b[1;32m     34\u001b[0m \u001b[0;32mdef\u001b[0m \u001b[0mdecoder\u001b[0m\u001b[0;34m(\u001b[0m\u001b[0mimg\u001b[0m\u001b[0;34m)\u001b[0m\u001b[0;34m:\u001b[0m\u001b[0;34m\u001b[0m\u001b[0;34m\u001b[0m\u001b[0m\n",
            "\u001b[0;32m<__array_function__ internals>\u001b[0m in \u001b[0;36mdot\u001b[0;34m(*args, **kwargs)\u001b[0m\n",
            "\u001b[0;31mValueError\u001b[0m: shapes (10,10) and (2500,1000) not aligned: 10 (dim 1) != 2500 (dim 0)"
          ]
        }
      ]
    },
    {
      "cell_type": "code",
      "source": [
        "import numpy as np\n",
        "\n",
        "#inputs = output_array\n",
        "\n",
        "bias_i2h = np.random.rand(100) * 0.1\n",
        "bias_h2o = np.random.rand(100) * 0.1\n",
        "\n",
        "\n",
        "weights_i2h = np.random.rand(100,30)\n",
        "    #3 (one for each hidden unit)\n",
        "    #8 units long (one for each input unit)\n",
        "weights_h2o = np.random.rand(30,100)\n",
        "\n",
        "\n",
        "\n",
        "#output_array = img_np.ravel()\n",
        "\n",
        "output_array = np.array([[0,0,0,0,0,0,0,0,0,1],\n",
        "                         [0,0,0,0,0,0,0,0,1,1],\n",
        "                         [0,0,0,0,0,0,0,1,1,1],\n",
        "                         [0,0,0,0,0,0,1,1,1,1],\n",
        "                         [0,0,0,0,0,1,1,1,1,1],\n",
        "                         [0,0,0,0,1,1,1,1,1,1],\n",
        "                         [0,0,0,1,1,1,1,1,1,1],\n",
        "                         [0,0,1,1,1,1,1,1,1,1],\n",
        "                         [0,1,1,1,1,1,1,1,1,1],\n",
        "                         [1,1,1,1,1,1,1,1,1,1]])\n",
        "output_array = output_array.ravel()\n",
        "print(output_array.shape)\n",
        "\n",
        "def sigmoid(x):\n",
        "    sigm = 1/(1+np.exp(-x))\n",
        "    return sigm\n",
        "\n",
        "def sigm_prime(x):\n",
        "    sigm_prim = x*(1-x) #this is different from the R code, don't know if it's right\n",
        "    return sigm_prim\n",
        "\n",
        "def encoder(img):\n",
        "  return sigmoid(np.dot(img,weights_i2h)+bias_i2h)\n",
        "\n",
        "def decoder(img):\n",
        "  return sigmoid(np.dot(img, weights_h2o)+ bias_h2o)\n",
        "\n",
        "def train(img,hidden_num, epochs):\n",
        "  #Weights and balances start randomly\n",
        "  weights_i2h = np.random.rand(100,hidden_num)\n",
        "    #3 (one for each hidden unit)\n",
        "    #8 units long (one for each input unit)\n",
        "  weights_h2o = np.random.rand(hidden_num,100)\n",
        "    #8 (one for each output unit)\n",
        "    #3 units long (one for each input unit)\n",
        "\n",
        "  bias_i2h = np.random.rand(hidden_num) * 0.1\n",
        "  bias_h2o = np.random.rand(100) * 0.1\n",
        "#learning = True\n",
        "  threshold = 0.5\n",
        "\n",
        "  d_Error_plot = list()\n",
        "  precisions = list()\n",
        "  for _ in range(epochs):\n",
        "    #d_Error = list()\n",
        "   # d_Error_round = list()\n",
        "    #for input in inputs:\n",
        "      #print(input)\n",
        "    #target_output = input\n",
        "      #print(input)\n",
        "    #hidden_input = np.dot(input,weights_i2h)\n",
        "      \n",
        "    #hidden_output = sigmoid(hidden_input)\n",
        "    encoded = encoder(img)\n",
        "\n",
        "\n",
        "    #final_input =  np.dot(hidden_output,weights_h2o)\n",
        "    #final_output = sigmoid(final_input)\n",
        "    decoded = decoder(encoded)\n",
        "\n",
        "    #delta_kt = target_output - final_output #1x8\n",
        "    error = img - decoded\n",
        "    mean_sq_e = np.mean(error**2)\n",
        "    d_Error_plot.append(mean_sq_e)\n",
        "    #or:\n",
        "    #d_Error_plot.append(np.mean(np.abs(error)))\n",
        "    #print(delta_kt)  \n",
        "    #print( np.mean(np.abs(delta_kt)))\n",
        "\n",
        "    #d_Error = np.mean(np.abs(delta_kt))\n",
        "    #d_Error = np.mean(np.abs(delta_kt))\n",
        "\n",
        "    ###PRECISION\n",
        "    correct_predictions = np.sum((decoded > threshold) == img)\n",
        "    precision = correct_predictions / len(img)\n",
        "    precisions.append(precision)\n",
        "\n",
        "    #delta_output = delta_kt * sigm_prime(final_output)\n",
        "    delta_output = np.dot(encoded.reshape(hidden_num,1), (error * sigm_prime(decoded).reshape(1,100)))\n",
        "    \n",
        "    #delta_hidden = np.dot(delta_output,weights_h2o.T) * sigm_prime(hidden_output)\n",
        "    error = np.dot(error,weights_h2o.T)\n",
        "    delta_hidden = np.dot(img.reshape(100,1), (error * sigm_prime(encoded)).reshape(1,hidden_num))\n",
        "    #delta_hidden = np.dot(img.T, error*sigm_prime(encoded))\n",
        "\n",
        "    #weights_h2o += np.dot(hidden_output.reshape(hidden_num,1), delta_output.reshape(1,2500))\n",
        "    #weights_i2h += np.dot(img.reshape(2500,1), delta_hidden.reshape(1,hidden_num))\n",
        "    weights_i2h += delta_hidden\n",
        "    weights_h2o += delta_output\n",
        "    #d_Error_plot.append(d_Error)\n",
        "  return weights_i2h, weights_h2o, d_Error_plot\n",
        "\n",
        "\n",
        "weights_i2h, weights_h2o, d_Error_plot = train(output_array,30,100)"
      ],
      "metadata": {
        "colab": {
          "base_uri": "https://localhost:8080/",
          "height": 363
        },
        "id": "Gq6w1TPo4Egd",
        "outputId": "293dad9f-f79f-4ed4-86be-4dd10fae8ccf"
      },
      "execution_count": null,
      "outputs": [
        {
          "output_type": "stream",
          "name": "stdout",
          "text": [
            "(100,)\n"
          ]
        },
        {
          "output_type": "error",
          "ename": "ValueError",
          "evalue": "ignored",
          "traceback": [
            "\u001b[0;31m---------------------------------------------------------------------------\u001b[0m",
            "\u001b[0;31mValueError\u001b[0m                                Traceback (most recent call last)",
            "\u001b[0;32m<ipython-input-69-cba42ef238fa>\u001b[0m in \u001b[0;36m<module>\u001b[0;34m\u001b[0m\n\u001b[1;32m    109\u001b[0m \u001b[0;34m\u001b[0m\u001b[0m\n\u001b[1;32m    110\u001b[0m \u001b[0;34m\u001b[0m\u001b[0m\n\u001b[0;32m--> 111\u001b[0;31m \u001b[0mweights_i2h\u001b[0m\u001b[0;34m,\u001b[0m \u001b[0mweights_h2o\u001b[0m\u001b[0;34m,\u001b[0m \u001b[0md_Error_plot\u001b[0m \u001b[0;34m=\u001b[0m \u001b[0mtrain\u001b[0m\u001b[0;34m(\u001b[0m\u001b[0moutput_array\u001b[0m\u001b[0;34m,\u001b[0m\u001b[0;36m30\u001b[0m\u001b[0;34m,\u001b[0m\u001b[0;36m100\u001b[0m\u001b[0;34m)\u001b[0m\u001b[0;34m\u001b[0m\u001b[0;34m\u001b[0m\u001b[0m\n\u001b[0m",
            "\u001b[0;32m<ipython-input-69-cba42ef238fa>\u001b[0m in \u001b[0;36mtrain\u001b[0;34m(img, hidden_num, epochs)\u001b[0m\n\u001b[1;32m     69\u001b[0m \u001b[0;34m\u001b[0m\u001b[0m\n\u001b[1;32m     70\u001b[0m     \u001b[0;31m#hidden_output = sigmoid(hidden_input)\u001b[0m\u001b[0;34m\u001b[0m\u001b[0;34m\u001b[0m\u001b[0;34m\u001b[0m\u001b[0m\n\u001b[0;32m---> 71\u001b[0;31m     \u001b[0mencoded\u001b[0m \u001b[0;34m=\u001b[0m \u001b[0mencoder\u001b[0m\u001b[0;34m(\u001b[0m\u001b[0mimg\u001b[0m\u001b[0;34m)\u001b[0m\u001b[0;34m\u001b[0m\u001b[0;34m\u001b[0m\u001b[0m\n\u001b[0m\u001b[1;32m     72\u001b[0m \u001b[0;34m\u001b[0m\u001b[0m\n\u001b[1;32m     73\u001b[0m \u001b[0;34m\u001b[0m\u001b[0m\n",
            "\u001b[0;32m<ipython-input-69-cba42ef238fa>\u001b[0m in \u001b[0;36mencoder\u001b[0;34m(img)\u001b[0m\n\u001b[1;32m     38\u001b[0m \u001b[0;34m\u001b[0m\u001b[0m\n\u001b[1;32m     39\u001b[0m \u001b[0;32mdef\u001b[0m \u001b[0mencoder\u001b[0m\u001b[0;34m(\u001b[0m\u001b[0mimg\u001b[0m\u001b[0;34m)\u001b[0m\u001b[0;34m:\u001b[0m\u001b[0;34m\u001b[0m\u001b[0;34m\u001b[0m\u001b[0m\n\u001b[0;32m---> 40\u001b[0;31m   \u001b[0;32mreturn\u001b[0m \u001b[0msigmoid\u001b[0m\u001b[0;34m(\u001b[0m\u001b[0mnp\u001b[0m\u001b[0;34m.\u001b[0m\u001b[0mdot\u001b[0m\u001b[0;34m(\u001b[0m\u001b[0mimg\u001b[0m\u001b[0;34m,\u001b[0m\u001b[0mweights_i2h\u001b[0m\u001b[0;34m)\u001b[0m\u001b[0;34m+\u001b[0m\u001b[0mbias_i2h\u001b[0m\u001b[0;34m)\u001b[0m\u001b[0;34m\u001b[0m\u001b[0;34m\u001b[0m\u001b[0m\n\u001b[0m\u001b[1;32m     41\u001b[0m \u001b[0;34m\u001b[0m\u001b[0m\n\u001b[1;32m     42\u001b[0m \u001b[0;32mdef\u001b[0m \u001b[0mdecoder\u001b[0m\u001b[0;34m(\u001b[0m\u001b[0mimg\u001b[0m\u001b[0;34m)\u001b[0m\u001b[0;34m:\u001b[0m\u001b[0;34m\u001b[0m\u001b[0;34m\u001b[0m\u001b[0m\n",
            "\u001b[0;31mValueError\u001b[0m: operands could not be broadcast together with shapes (30,) (100,) "
          ]
        }
      ]
    },
    {
      "cell_type": "code",
      "source": [
        "#weights_i2h, weights_h2o, d_Error_plot = train(output_array,2500,1000)\n",
        "\n",
        "hidden_layer, outputs = autoencoder(output_array)"
      ],
      "metadata": {
        "id": "_aiPLzQK-Jz6"
      },
      "execution_count": null,
      "outputs": []
    },
    {
      "cell_type": "code",
      "source": [
        "final_image = np.reshape(outputs, (50,50))\n",
        "\n",
        "plt.imshow(final_image)\n",
        "\n",
        "outputs.shape\n",
        "outputs[1:100]"
      ],
      "metadata": {
        "colab": {
          "base_uri": "https://localhost:8080/",
          "height": 371
        },
        "id": "XSNaV0NF-XXp",
        "outputId": "425bf8f3-a9f7-4c88-b57e-6b4634b6f5c4"
      },
      "execution_count": null,
      "outputs": [
        {
          "output_type": "execute_result",
          "data": {
            "text/plain": [
              "array([1., 1., 1., 1., 1., 1., 1., 1., 1., 1., 1., 1., 1., 1., 1., 1., 1.,\n",
              "       1., 1., 1., 1., 1., 1., 1., 1., 1., 1., 1., 1., 1., 1., 1., 1., 1.,\n",
              "       1., 1., 1., 1., 1., 1., 1., 1., 1., 1., 1., 1., 1., 1., 1., 1., 1.,\n",
              "       1., 1., 1., 1., 1., 1., 1., 1., 1., 1., 1., 1., 1., 1., 1., 1., 1.,\n",
              "       1., 1., 1., 1., 1., 1., 1., 1., 1., 1., 1., 1., 1., 1., 1., 1., 1.,\n",
              "       1., 1., 1., 1., 1., 1., 1., 1., 1., 1., 1., 1., 1., 1.])"
            ]
          },
          "metadata": {},
          "execution_count": 59
        },
        {
          "output_type": "display_data",
          "data": {
            "text/plain": [
              "<Figure size 432x288 with 1 Axes>"
            ],
            "image/png": "[encoded data removed]"
          },
          "metadata": {
            "needs_background": "light"
          }
        }
      ]
    },
    {
      "cell_type": "code",
      "source": [
        "  import matplotlib.pyplot as plt\n",
        "  plt.plot(range(1000), d_Error_plot)\n",
        "  plt.xlabel('Epoch')\n",
        "  plt.ylabel('Error')\n",
        "  plt.show()\n",
        "\n",
        "  print(min(d_Error_plot))"
      ],
      "metadata": {
        "colab": {
          "base_uri": "https://localhost:8080/",
          "height": 685
        },
        "id": "yazvCBKuBIuQ",
        "outputId": "af2fd3d8-dd46-4127-9ef0-29e834680a78"
      },
      "execution_count": null,
      "outputs": [
        {
          "output_type": "error",
          "ename": "ValueError",
          "evalue": "ignored",
          "traceback": [
            "\u001b[0;31m---------------------------------------------------------------------------\u001b[0m",
            "\u001b[0;31mValueError\u001b[0m                                Traceback (most recent call last)",
            "\u001b[0;32m<ipython-input-54-b5b30022fd9d>\u001b[0m in \u001b[0;36m<module>\u001b[0;34m\u001b[0m\n\u001b[1;32m      1\u001b[0m \u001b[0;32mimport\u001b[0m \u001b[0mmatplotlib\u001b[0m\u001b[0;34m.\u001b[0m\u001b[0mpyplot\u001b[0m \u001b[0;32mas\u001b[0m \u001b[0mplt\u001b[0m\u001b[0;34m\u001b[0m\u001b[0;34m\u001b[0m\u001b[0m\n\u001b[0;32m----> 2\u001b[0;31m \u001b[0mplt\u001b[0m\u001b[0;34m.\u001b[0m\u001b[0mplot\u001b[0m\u001b[0;34m(\u001b[0m\u001b[0mrange\u001b[0m\u001b[0;34m(\u001b[0m\u001b[0;36m1000\u001b[0m\u001b[0;34m)\u001b[0m\u001b[0;34m,\u001b[0m \u001b[0md_Error_plot\u001b[0m\u001b[0;34m)\u001b[0m\u001b[0;34m\u001b[0m\u001b[0;34m\u001b[0m\u001b[0m\n\u001b[0m\u001b[1;32m      3\u001b[0m \u001b[0mplt\u001b[0m\u001b[0;34m.\u001b[0m\u001b[0mxlabel\u001b[0m\u001b[0;34m(\u001b[0m\u001b[0;34m'Epoch'\u001b[0m\u001b[0;34m)\u001b[0m\u001b[0;34m\u001b[0m\u001b[0;34m\u001b[0m\u001b[0m\n\u001b[1;32m      4\u001b[0m \u001b[0mplt\u001b[0m\u001b[0;34m.\u001b[0m\u001b[0mylabel\u001b[0m\u001b[0;34m(\u001b[0m\u001b[0;34m'Error'\u001b[0m\u001b[0;34m)\u001b[0m\u001b[0;34m\u001b[0m\u001b[0;34m\u001b[0m\u001b[0m\n\u001b[1;32m      5\u001b[0m \u001b[0mplt\u001b[0m\u001b[0;34m.\u001b[0m\u001b[0mshow\u001b[0m\u001b[0;34m(\u001b[0m\u001b[0;34m)\u001b[0m\u001b[0;34m\u001b[0m\u001b[0;34m\u001b[0m\u001b[0m\n",
            "\u001b[0;32m/usr/local/lib/python3.8/dist-packages/matplotlib/pyplot.py\u001b[0m in \u001b[0;36mplot\u001b[0;34m(scalex, scaley, data, *args, **kwargs)\u001b[0m\n\u001b[1;32m   2759\u001b[0m \u001b[0;34m@\u001b[0m\u001b[0mdocstring\u001b[0m\u001b[0;34m.\u001b[0m\u001b[0mcopy\u001b[0m\u001b[0;34m(\u001b[0m\u001b[0mAxes\u001b[0m\u001b[0;34m.\u001b[0m\u001b[0mplot\u001b[0m\u001b[0;34m)\u001b[0m\u001b[0;34m\u001b[0m\u001b[0;34m\u001b[0m\u001b[0m\n\u001b[1;32m   2760\u001b[0m \u001b[0;32mdef\u001b[0m \u001b[0mplot\u001b[0m\u001b[0;34m(\u001b[0m\u001b[0;34m*\u001b[0m\u001b[0margs\u001b[0m\u001b[0;34m,\u001b[0m \u001b[0mscalex\u001b[0m\u001b[0;34m=\u001b[0m\u001b[0;32mTrue\u001b[0m\u001b[0;34m,\u001b[0m \u001b[0mscaley\u001b[0m\u001b[0;34m=\u001b[0m\u001b[0;32mTrue\u001b[0m\u001b[0;34m,\u001b[0m \u001b[0mdata\u001b[0m\u001b[0;34m=\u001b[0m\u001b[0;32mNone\u001b[0m\u001b[0;34m,\u001b[0m \u001b[0;34m**\u001b[0m\u001b[0mkwargs\u001b[0m\u001b[0;34m)\u001b[0m\u001b[0;34m:\u001b[0m\u001b[0;34m\u001b[0m\u001b[0;34m\u001b[0m\u001b[0m\n\u001b[0;32m-> 2761\u001b[0;31m     return gca().plot(\n\u001b[0m\u001b[1;32m   2762\u001b[0m         *args, scalex=scalex, scaley=scaley, **({\"data\": data} if data\n\u001b[1;32m   2763\u001b[0m         is not None else {}), **kwargs)\n",
            "\u001b[0;32m/usr/local/lib/python3.8/dist-packages/matplotlib/axes/_axes.py\u001b[0m in \u001b[0;36mplot\u001b[0;34m(self, scalex, scaley, data, *args, **kwargs)\u001b[0m\n\u001b[1;32m   1645\u001b[0m         \"\"\"\n\u001b[1;32m   1646\u001b[0m         \u001b[0mkwargs\u001b[0m \u001b[0;34m=\u001b[0m \u001b[0mcbook\u001b[0m\u001b[0;34m.\u001b[0m\u001b[0mnormalize_kwargs\u001b[0m\u001b[0;34m(\u001b[0m\u001b[0mkwargs\u001b[0m\u001b[0;34m,\u001b[0m \u001b[0mmlines\u001b[0m\u001b[0;34m.\u001b[0m\u001b[0mLine2D\u001b[0m\u001b[0;34m)\u001b[0m\u001b[0;34m\u001b[0m\u001b[0;34m\u001b[0m\u001b[0m\n\u001b[0;32m-> 1647\u001b[0;31m         \u001b[0mlines\u001b[0m \u001b[0;34m=\u001b[0m \u001b[0;34m[\u001b[0m\u001b[0;34m*\u001b[0m\u001b[0mself\u001b[0m\u001b[0;34m.\u001b[0m\u001b[0m_get_lines\u001b[0m\u001b[0;34m(\u001b[0m\u001b[0;34m*\u001b[0m\u001b[0margs\u001b[0m\u001b[0;34m,\u001b[0m \u001b[0mdata\u001b[0m\u001b[0;34m=\u001b[0m\u001b[0mdata\u001b[0m\u001b[0;34m,\u001b[0m \u001b[0;34m**\u001b[0m\u001b[0mkwargs\u001b[0m\u001b[0;34m)\u001b[0m\u001b[0;34m]\u001b[0m\u001b[0;34m\u001b[0m\u001b[0;34m\u001b[0m\u001b[0m\n\u001b[0m\u001b[1;32m   1648\u001b[0m         \u001b[0;32mfor\u001b[0m \u001b[0mline\u001b[0m \u001b[0;32min\u001b[0m \u001b[0mlines\u001b[0m\u001b[0;34m:\u001b[0m\u001b[0;34m\u001b[0m\u001b[0;34m\u001b[0m\u001b[0m\n\u001b[1;32m   1649\u001b[0m             \u001b[0mself\u001b[0m\u001b[0;34m.\u001b[0m\u001b[0madd_line\u001b[0m\u001b[0;34m(\u001b[0m\u001b[0mline\u001b[0m\u001b[0;34m)\u001b[0m\u001b[0;34m\u001b[0m\u001b[0;34m\u001b[0m\u001b[0m\n",
            "\u001b[0;32m/usr/local/lib/python3.8/dist-packages/matplotlib/axes/_base.py\u001b[0m in \u001b[0;36m__call__\u001b[0;34m(self, *args, **kwargs)\u001b[0m\n\u001b[1;32m    214\u001b[0m                 \u001b[0mthis\u001b[0m \u001b[0;34m+=\u001b[0m \u001b[0margs\u001b[0m\u001b[0;34m[\u001b[0m\u001b[0;36m0\u001b[0m\u001b[0;34m]\u001b[0m\u001b[0;34m,\u001b[0m\u001b[0;34m\u001b[0m\u001b[0;34m\u001b[0m\u001b[0m\n\u001b[1;32m    215\u001b[0m                 \u001b[0margs\u001b[0m \u001b[0;34m=\u001b[0m \u001b[0margs\u001b[0m\u001b[0;34m[\u001b[0m\u001b[0;36m1\u001b[0m\u001b[0;34m:\u001b[0m\u001b[0;34m]\u001b[0m\u001b[0;34m\u001b[0m\u001b[0;34m\u001b[0m\u001b[0m\n\u001b[0;32m--> 216\u001b[0;31m             \u001b[0;32myield\u001b[0m \u001b[0;32mfrom\u001b[0m \u001b[0mself\u001b[0m\u001b[0;34m.\u001b[0m\u001b[0m_plot_args\u001b[0m\u001b[0;34m(\u001b[0m\u001b[0mthis\u001b[0m\u001b[0;34m,\u001b[0m \u001b[0mkwargs\u001b[0m\u001b[0;34m)\u001b[0m\u001b[0;34m\u001b[0m\u001b[0;34m\u001b[0m\u001b[0m\n\u001b[0m\u001b[1;32m    217\u001b[0m \u001b[0;34m\u001b[0m\u001b[0m\n\u001b[1;32m    218\u001b[0m     \u001b[0;32mdef\u001b[0m \u001b[0mget_next_color\u001b[0m\u001b[0;34m(\u001b[0m\u001b[0mself\u001b[0m\u001b[0;34m)\u001b[0m\u001b[0;34m:\u001b[0m\u001b[0;34m\u001b[0m\u001b[0;34m\u001b[0m\u001b[0m\n",
            "\u001b[0;32m/usr/local/lib/python3.8/dist-packages/matplotlib/axes/_base.py\u001b[0m in \u001b[0;36m_plot_args\u001b[0;34m(self, tup, kwargs)\u001b[0m\n\u001b[1;32m    340\u001b[0m \u001b[0;34m\u001b[0m\u001b[0m\n\u001b[1;32m    341\u001b[0m         \u001b[0;32mif\u001b[0m \u001b[0mx\u001b[0m\u001b[0;34m.\u001b[0m\u001b[0mshape\u001b[0m\u001b[0;34m[\u001b[0m\u001b[0;36m0\u001b[0m\u001b[0;34m]\u001b[0m \u001b[0;34m!=\u001b[0m \u001b[0my\u001b[0m\u001b[0;34m.\u001b[0m\u001b[0mshape\u001b[0m\u001b[0;34m[\u001b[0m\u001b[0;36m0\u001b[0m\u001b[0;34m]\u001b[0m\u001b[0;34m:\u001b[0m\u001b[0;34m\u001b[0m\u001b[0;34m\u001b[0m\u001b[0m\n\u001b[0;32m--> 342\u001b[0;31m             raise ValueError(f\"x and y must have same first dimension, but \"\n\u001b[0m\u001b[1;32m    343\u001b[0m                              f\"have shapes {x.shape} and {y.shape}\")\n\u001b[1;32m    344\u001b[0m         \u001b[0;32mif\u001b[0m \u001b[0mx\u001b[0m\u001b[0;34m.\u001b[0m\u001b[0mndim\u001b[0m \u001b[0;34m>\u001b[0m \u001b[0;36m2\u001b[0m \u001b[0;32mor\u001b[0m \u001b[0my\u001b[0m\u001b[0;34m.\u001b[0m\u001b[0mndim\u001b[0m \u001b[0;34m>\u001b[0m \u001b[0;36m2\u001b[0m\u001b[0;34m:\u001b[0m\u001b[0;34m\u001b[0m\u001b[0;34m\u001b[0m\u001b[0m\n",
            "\u001b[0;31mValueError\u001b[0m: x and y must have same first dimension, but have shapes (1000,) and (100,)"
          ]
        },
        {
          "output_type": "display_data",
          "data": {
            "text/plain": [
              "<Figure size 432x288 with 1 Axes>"
            ],
            "image/png": "[encoded data removed]"
          },
          "metadata": {
            "needs_background": "light"
          }
        }
      ]
    }
  ]
}