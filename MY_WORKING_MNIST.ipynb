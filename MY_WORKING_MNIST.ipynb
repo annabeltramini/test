{
  "nbformat": 4,
  "nbformat_minor": 0,
  "metadata": {
    "colab": {
      "provenance": [],
      "authorship_tag": "ABX9TyP4fFViPEzQFzkaBF+FzZoc",
      "include_colab_link": true
    },
    "kernelspec": {
      "name": "python3",
      "display_name": "Python 3"
    },
    "language_info": {
      "name": "python"
    }
  },
  "cells": [
    {
      "cell_type": "markdown",
      "metadata": {
        "id": "view-in-github",
        "colab_type": "text"
      },
      "source": [
        "<a href=\"https://colab.research.google.com/github/annabeltramini/test/blob/main/MY_WORKING_MNIST.ipynb\" target=\"_parent\"><img src=\"https://colab.research.google.com/assets/colab-badge.svg\" alt=\"Open In Colab\"/></a>"
      ]
    },
    {
      "cell_type": "code",
      "execution_count": 27,
      "metadata": {
        "id": "zNXMJzONvzzZ"
      },
      "outputs": [],
      "source": [
        "import numpy as np\n",
        "from tensorflow.keras.datasets import mnist\n",
        "import matplotlib.pyplot as plt\n",
        "from tensorflow.keras.utils import to_categorical\n",
        "from tensorflow.keras.models import Sequential\n",
        "from tensorflow.keras.layers import Conv2D\n",
        "from tensorflow.keras.layers import MaxPooling2D\n",
        "from tensorflow.keras.layers import Dense\n",
        "from sklearn.model_selection import KFold\n",
        "\n",
        "\n",
        "from tensorflow.keras.layers import Flatten\n",
        "\n",
        "import time"
      ]
    },
    {
      "cell_type": "code",
      "source": [
        "# load dataset\n",
        "#Broken into 10,000 vs 60,000 images\n",
        "(train_img, train_lab), (test_img, test_lab) = mnist.load_data()\n",
        "size_train = train_img.shape[0]\n",
        "size_test = test_img.shape[0]\n",
        "train_img = train_img.reshape((size_train, 28, 28, 1))\n",
        "test_img = test_img.reshape((size_test, 28, 28, 1))\n",
        "\n",
        "#Encode the labels as binary vectors\n",
        "train_lab = to_categorical(train_lab)\n",
        "test_lab = to_categorical(test_lab)\n",
        "\n",
        "#Normalise the pixels between 0 and 1\n",
        "#Do I want to try and normalise it like the paper?\n",
        "#Normalise pixels\n",
        "train_img = train_img.astype(np.float32)\n",
        "train_img = (train_img/255)\n",
        "test_img = test_img.astype(np.float32)\n",
        "test_img = (test_img/255)"
      ],
      "metadata": {
        "id": "OXZozc6owB_Q",
        "colab": {
          "base_uri": "https://localhost:8080/"
        },
        "outputId": "7d4edfe0-8039-4ca9-eeea-779f44da842b"
      },
      "execution_count": 3,
      "outputs": [
        {
          "output_type": "stream",
          "name": "stdout",
          "text": [
            "Downloading data from https://storage.googleapis.com/tensorflow/tf-keras-datasets/mnist.npz\n",
            "11490434/11490434 [==============================] - 0s 0us/step\n"
          ]
        }
      ]
    },
    {
      "cell_type": "code",
      "source": [
        "#Create the model:\n",
        "model = Sequential() #backbone\n",
        "#C1: First convolutional layer (as loyal as possible to LeCun)\n",
        "model.add(Conv2D(filters = 6, kernel_size = (5,5), input_shape = (28,28,1), activation = 'sigmoid', padding = 'same'))\n",
        "#S2: First subsampling layer (MaxPooling instead of sigmoidal calculation, to make it more modern, but same size)\n",
        "model.add(MaxPooling2D(pool_size=(2, 2), strides=(2, 2)))\n",
        "#C3: Second convolutional layer (Easy on the complicated connections)\n",
        "model.add(Conv2D(filters = 16, kernel_size = (5,5),input_shape=(14, 14, 6), activation = \"sigmoid\"))\n",
        "#S4\n",
        "model.add(MaxPooling2D(pool_size = (2,2), strides = (2,2)))\n",
        "#C5\n",
        "model.add(Conv2D(filters = 120, kernel_size = (5,5), input_shape = (5,5,16), activation = \"sigmoid\"))\n",
        "#F5 (I need to flatten to be able to give the dense leyaers)\n",
        "model.add(Flatten())\n",
        "#F6\n",
        "model.add(Dense(84,activation = \"sigmoid\"))\n",
        "#Output (They use gaussian)\n",
        "model.add(Dense(10,activation = \"softmax\"))"
      ],
      "metadata": {
        "id": "33ae1oD2xjqd"
      },
      "execution_count": 4,
      "outputs": []
    },
    {
      "cell_type": "code",
      "source": [
        "from tensorflow.keras.optimizers import SGD\n",
        "opt = SGD(learning_rate=0.01, momentum=0.9)\n",
        "model.compile(optimizer=opt, loss='categorical_crossentropy', metrics=['accuracy'])"
      ],
      "metadata": {
        "id": "P3Dk3YnXy0f5"
      },
      "execution_count": 5,
      "outputs": []
    },
    {
      "cell_type": "code",
      "source": [
        "history = model.fit(train_img, train_lab, epochs=10, batch_size=32, validation_data=(test_img, test_lab))"
      ],
      "metadata": {
        "id": "dmrGW3mABLYJ",
        "colab": {
          "base_uri": "https://localhost:8080/"
        },
        "outputId": "8f74e86c-4385-4bfd-fa7f-cf45962a824c"
      },
      "execution_count": 21,
      "outputs": [
        {
          "output_type": "stream",
          "name": "stdout",
          "text": [
            "Epoch 1/10\n",
            "1875/1875 [==============================] - 50s 27ms/step - loss: 0.0322 - accuracy: 0.9904 - val_loss: 0.0403 - val_accuracy: 0.9873\n",
            "Epoch 2/10\n",
            "1875/1875 [==============================] - 49s 26ms/step - loss: 0.0313 - accuracy: 0.9908 - val_loss: 0.0403 - val_accuracy: 0.9869\n",
            "Epoch 3/10\n",
            "1875/1875 [==============================] - 50s 27ms/step - loss: 0.0298 - accuracy: 0.9910 - val_loss: 0.0376 - val_accuracy: 0.9879\n",
            "Epoch 4/10\n",
            "1875/1875 [==============================] - 48s 25ms/step - loss: 0.0286 - accuracy: 0.9917 - val_loss: 0.0374 - val_accuracy: 0.9864\n",
            "Epoch 5/10\n",
            "1875/1875 [==============================] - 49s 26ms/step - loss: 0.0276 - accuracy: 0.9920 - val_loss: 0.0405 - val_accuracy: 0.9871\n",
            "Epoch 6/10\n",
            "1875/1875 [==============================] - 49s 26ms/step - loss: 0.0266 - accuracy: 0.9920 - val_loss: 0.0394 - val_accuracy: 0.9870\n",
            "Epoch 7/10\n",
            "1875/1875 [==============================] - 49s 26ms/step - loss: 0.0260 - accuracy: 0.9925 - val_loss: 0.0377 - val_accuracy: 0.9873\n",
            "Epoch 8/10\n",
            "1875/1875 [==============================] - 49s 26ms/step - loss: 0.0246 - accuracy: 0.9929 - val_loss: 0.0361 - val_accuracy: 0.9881\n",
            "Epoch 9/10\n",
            "1875/1875 [==============================] - 49s 26ms/step - loss: 0.0242 - accuracy: 0.9929 - val_loss: 0.0358 - val_accuracy: 0.9877\n",
            "Epoch 10/10\n",
            "1875/1875 [==============================] - 49s 26ms/step - loss: 0.0233 - accuracy: 0.9933 - val_loss: 0.0358 - val_accuracy: 0.9883\n"
          ]
        }
      ]
    },
    {
      "cell_type": "code",
      "source": [
        "history.history"
      ],
      "metadata": {
        "colab": {
          "base_uri": "https://localhost:8080/"
        },
        "id": "MBcg0iwxDs3X",
        "outputId": "6cf81a3f-a300-4c44-fb0c-7da310e6c2b3"
      },
      "execution_count": 22,
      "outputs": [
        {
          "output_type": "execute_result",
          "data": {
            "text/plain": [
              "{'loss': [0.03223267197608948,\n",
              "  0.03131156787276268,\n",
              "  0.029802929610013962,\n",
              "  0.02860097400844097,\n",
              "  0.027643591165542603,\n",
              "  0.026574168354272842,\n",
              "  0.026016779243946075,\n",
              "  0.024579862132668495,\n",
              "  0.024183498695492744,\n",
              "  0.0233016274869442],\n",
              " 'accuracy': [0.9903833270072937,\n",
              "  0.9907500147819519,\n",
              "  0.9910333156585693,\n",
              "  0.9916666746139526,\n",
              "  0.9920499920845032,\n",
              "  0.9919833540916443,\n",
              "  0.9924833178520203,\n",
              "  0.9929166436195374,\n",
              "  0.9928833246231079,\n",
              "  0.9933000206947327],\n",
              " 'val_loss': [0.040296800434589386,\n",
              "  0.04026186093688011,\n",
              "  0.03756058216094971,\n",
              "  0.037365496158599854,\n",
              "  0.040479838848114014,\n",
              "  0.03937569633126259,\n",
              "  0.03774619102478027,\n",
              "  0.03606133535504341,\n",
              "  0.03581804409623146,\n",
              "  0.03584278002381325],\n",
              " 'val_accuracy': [0.9872999787330627,\n",
              "  0.9868999719619751,\n",
              "  0.9879000186920166,\n",
              "  0.9864000082015991,\n",
              "  0.9871000051498413,\n",
              "  0.9869999885559082,\n",
              "  0.9872999787330627,\n",
              "  0.988099992275238,\n",
              "  0.9876999855041504,\n",
              "  0.9883000254631042]}"
            ]
          },
          "metadata": {},
          "execution_count": 22
        }
      ]
    },
    {
      "cell_type": "code",
      "source": [
        "# Evaluate the model on the test data using `evaluate`\n",
        "print(\"Evaluate on test data\")\n",
        "results = model.evaluate(test_img, test_lab, batch_size=128)\n",
        "print(\"test loss, test acc:\", results)\n",
        "\n",
        "# Generate predictions (probabilities -- the output of the last layer)\n",
        "# on new data using `predict`\n",
        "print(\"Generate predictions for 3 samples\")\n",
        "predictions = model.predict(test_img[:3])\n",
        "print(\"predictions shape:\", predictions.shape)"
      ],
      "metadata": {
        "colab": {
          "base_uri": "https://localhost:8080/"
        },
        "id": "eT_7CyHhPG5S",
        "outputId": "94590386-7e18-4446-cb72-b49655761742"
      },
      "execution_count": 23,
      "outputs": [
        {
          "output_type": "stream",
          "name": "stdout",
          "text": [
            "Evaluate on test data\n",
            "79/79 [==============================] - 3s 33ms/step - loss: 0.0358 - accuracy: 0.9883\n",
            "test loss, test acc: [0.035842765122652054, 0.9883000254631042]\n",
            "Generate predictions for 3 samples\n",
            "1/1 [==============================] - 0s 38ms/step\n",
            "predictions shape: (3, 10)\n"
          ]
        }
      ]
    },
    {
      "cell_type": "code",
      "source": [
        "img = test_img[1]\n",
        "plt.imshow(img.reshape(28,28))\n",
        "plt.show()\n",
        "#img\n",
        "#model.predict(img.reshape(1,28,28,1))\n",
        "print(\"The CNN thinks this number is a\", np.argmax(model.predict(img.reshape(1,28,28,1))))"
      ],
      "metadata": {
        "colab": {
          "base_uri": "https://localhost:8080/",
          "height": 300
        },
        "id": "odE5vqIRJR2Y",
        "outputId": "84bb2f41-e24b-4ec2-8d88-5cba27ca6aa2"
      },
      "execution_count": 24,
      "outputs": [
        {
          "output_type": "display_data",
          "data": {
            "text/plain": [
              "<Figure size 432x288 with 1 Axes>"
            ],
            "image/png": "[encoded data removed]"
          },
          "metadata": {
            "needs_background": "light"
          }
        },
        {
          "output_type": "stream",
          "name": "stdout",
          "text": [
            "1/1 [==============================] - 0s 25ms/step\n",
            "The CNN thinks this number is a 2\n"
          ]
        }
      ]
    },
    {
      "cell_type": "markdown",
      "source": [
        "\n"
      ],
      "metadata": {
        "id": "Nv5Ai9WsBMac"
      }
    },
    {
      "cell_type": "code",
      "source": [
        "#CODE FROM J\n",
        "# Plot the training and test loss and accuracy \n",
        "plt.plot(history.history[\"loss\"]) \n",
        "plt.plot(history.history[\"val_loss\"]) \n",
        "plt.title(\"Model loss\") \n",
        "plt.ylabel(\"Loss\") \n",
        "plt.xlabel(\"Epoch\")\n",
        "plt.legend([\"train\", \"test\"], loc=\"upper right\") \n",
        "plt.show()\n",
        "\n",
        "plt.plot(history.history[\"accuracy\"])\n",
        "plt.plot(history.history[\"val_accuracy\"]) \n",
        "plt.title(\"Model accuracy\") \n",
        "plt.ylabel(\"Accuracy\") \n",
        "plt.xlabel(\"Epoch\")\n",
        "plt.legend([\"train\", \"test\"], loc=\"lower right\")\n",
        "plt.show()"
      ],
      "metadata": {
        "id": "3m58r5DFBP4Q",
        "colab": {
          "base_uri": "https://localhost:8080/",
          "height": 573
        },
        "outputId": "a984080f-eaf5-4548-882e-c9ecf1250c2d"
      },
      "execution_count": 25,
      "outputs": [
        {
          "output_type": "display_data",
          "data": {
            "text/plain": [
              "<Figure size 432x288 with 1 Axes>"
            ],
            "image/png": "[encoded data removed]"
          },
          "metadata": {
            "needs_background": "light"
          }
        },
        {
          "output_type": "display_data",
          "data": {
            "text/plain": [
              "<Figure size 432x288 with 1 Axes>"
            ],
            "image/png": "[encoded data removed]"
          },
          "metadata": {
            "needs_background": "light"
          }
        }
      ]
    },
    {
      "cell_type": "code",
      "source": [
        "#CODE FROM  MAHCINE LEARNING MASTERY\n",
        "# evaluate a model using k-fold cross-validation\n",
        "def evaluate_model(dataX, dataY, n_folds=5):\n",
        "\tscores, histories = list(), list()\n",
        "\t# prepare cross validation\n",
        "\tkfold = KFold(n_folds, shuffle=True, random_state=1)\n",
        "\t# enumerate splits\n",
        "\tfor train_ix, test_ix in kfold.split(dataX):\n",
        "\t\t# define model\n",
        "\t\t#model = define_model()\n",
        "\t\t# select rows for train and test\n",
        "\t\ttrainX, trainY, testX, testY = dataX[train_ix], dataY[train_ix], dataX[test_ix], dataY[test_ix]\n",
        "\t\t# fit model\n",
        "\t\thistory = model.fit(trainX, trainY, epochs=5, batch_size=32, validation_data=(testX, testY), verbose=1)\n",
        "\t\t# evaluate model\n",
        "\t\t_, acc = model.evaluate(testX, testY, verbose=0)\n",
        "\t\tprint('> %.3f' % (acc * 100.0))\n",
        "\t\t# stores scores\n",
        "\t\tscores.append(acc)\n",
        "\t\thistories.append(history)\n",
        "\treturn scores, histories\n",
        "\n",
        "scores, histories = evaluate_model(train_img,train_lab,10)"
      ],
      "metadata": {
        "id": "tO69RGbaBVxf",
        "colab": {
          "base_uri": "https://localhost:8080/"
        },
        "outputId": "80f41b38-ac10-4541-8d87-4b67d6c7dad9"
      },
      "execution_count": 165,
      "outputs": [
        {
          "output_type": "stream",
          "name": "stdout",
          "text": [
            "Epoch 1/5\n",
            "1688/1688 [==============================] - 52s 31ms/step - loss: 0.0128 - accuracy: 0.9966 - val_loss: 0.0206 - val_accuracy: 0.9933\n",
            "Epoch 2/5\n",
            "1688/1688 [==============================] - 43s 26ms/step - loss: 0.0119 - accuracy: 0.9972 - val_loss: 0.0185 - val_accuracy: 0.9945\n",
            "Epoch 3/5\n",
            "1688/1688 [==============================] - 46s 27ms/step - loss: 0.0116 - accuracy: 0.9972 - val_loss: 0.0187 - val_accuracy: 0.9937\n",
            "Epoch 4/5\n",
            "1688/1688 [==============================] - 43s 26ms/step - loss: 0.0111 - accuracy: 0.9973 - val_loss: 0.0182 - val_accuracy: 0.9943\n",
            "Epoch 5/5\n",
            "1688/1688 [==============================] - 43s 26ms/step - loss: 0.0108 - accuracy: 0.9977 - val_loss: 0.0200 - val_accuracy: 0.9933\n",
            "> 99.333\n",
            "Epoch 1/5\n",
            "1688/1688 [==============================] - 44s 26ms/step - loss: 0.0113 - accuracy: 0.9971 - val_loss: 0.0137 - val_accuracy: 0.9968\n",
            "Epoch 2/5\n",
            "1688/1688 [==============================] - 43s 26ms/step - loss: 0.0107 - accuracy: 0.9974 - val_loss: 0.0164 - val_accuracy: 0.9963\n",
            "Epoch 3/5\n",
            "1688/1688 [==============================] - 44s 26ms/step - loss: 0.0103 - accuracy: 0.9975 - val_loss: 0.0175 - val_accuracy: 0.9958\n",
            "Epoch 4/5\n",
            "1688/1688 [==============================] - 44s 26ms/step - loss: 0.0101 - accuracy: 0.9975 - val_loss: 0.0173 - val_accuracy: 0.9953\n",
            "Epoch 5/5\n",
            "1688/1688 [==============================] - 44s 26ms/step - loss: 0.0098 - accuracy: 0.9975 - val_loss: 0.0171 - val_accuracy: 0.9958\n",
            "> 99.583\n",
            "Epoch 1/5\n",
            "1688/1688 [==============================] - 45s 27ms/step - loss: 0.0103 - accuracy: 0.9975 - val_loss: 0.0087 - val_accuracy: 0.9978\n",
            "Epoch 2/5\n",
            "1688/1688 [==============================] - 44s 26ms/step - loss: 0.0098 - accuracy: 0.9979 - val_loss: 0.0088 - val_accuracy: 0.9983\n",
            "Epoch 3/5\n",
            "1688/1688 [==============================] - 44s 26ms/step - loss: 0.0092 - accuracy: 0.9979 - val_loss: 0.0086 - val_accuracy: 0.9985\n",
            "Epoch 4/5\n",
            "1688/1688 [==============================] - 45s 26ms/step - loss: 0.0092 - accuracy: 0.9979 - val_loss: 0.0095 - val_accuracy: 0.9985\n",
            "Epoch 5/5\n",
            "1688/1688 [==============================] - 44s 26ms/step - loss: 0.0091 - accuracy: 0.9980 - val_loss: 0.0096 - val_accuracy: 0.9975\n",
            "> 99.750\n",
            "Epoch 1/5\n",
            "1688/1688 [==============================] - 45s 27ms/step - loss: 0.0090 - accuracy: 0.9979 - val_loss: 0.0076 - val_accuracy: 0.9985\n",
            "Epoch 2/5\n",
            "1688/1688 [==============================] - 44s 26ms/step - loss: 0.0087 - accuracy: 0.9981 - val_loss: 0.0125 - val_accuracy: 0.9957\n",
            "Epoch 3/5\n",
            "1688/1688 [==============================] - 44s 26ms/step - loss: 0.0084 - accuracy: 0.9981 - val_loss: 0.0078 - val_accuracy: 0.9980\n",
            "Epoch 4/5\n",
            "1688/1688 [==============================] - 45s 26ms/step - loss: 0.0079 - accuracy: 0.9984 - val_loss: 0.0078 - val_accuracy: 0.9982\n",
            "Epoch 5/5\n",
            "1688/1688 [==============================] - 43s 26ms/step - loss: 0.0077 - accuracy: 0.9984 - val_loss: 0.0078 - val_accuracy: 0.9983\n",
            "> 99.833\n",
            "Epoch 1/5\n",
            "1688/1688 [==============================] - 45s 27ms/step - loss: 0.0076 - accuracy: 0.9984 - val_loss: 0.0080 - val_accuracy: 0.9985\n",
            "Epoch 2/5\n",
            "1688/1688 [==============================] - 44s 26ms/step - loss: 0.0073 - accuracy: 0.9984 - val_loss: 0.0084 - val_accuracy: 0.9987\n",
            "Epoch 3/5\n",
            "1688/1688 [==============================] - 44s 26ms/step - loss: 0.0068 - accuracy: 0.9988 - val_loss: 0.0088 - val_accuracy: 0.9985\n",
            "Epoch 4/5\n",
            "1688/1688 [==============================] - 45s 27ms/step - loss: 0.0066 - accuracy: 0.9988 - val_loss: 0.0100 - val_accuracy: 0.9973\n",
            "Epoch 5/5\n",
            "1688/1688 [==============================] - 44s 26ms/step - loss: 0.0063 - accuracy: 0.9988 - val_loss: 0.0107 - val_accuracy: 0.9983\n",
            "> 99.833\n",
            "Epoch 1/5\n",
            "1688/1688 [==============================] - 44s 26ms/step - loss: 0.0067 - accuracy: 0.9988 - val_loss: 0.0060 - val_accuracy: 0.9988\n",
            "Epoch 2/5\n",
            "1688/1688 [==============================] - 44s 26ms/step - loss: 0.0064 - accuracy: 0.9988 - val_loss: 0.0067 - val_accuracy: 0.9992\n",
            "Epoch 3/5\n",
            "1688/1688 [==============================] - 45s 27ms/step - loss: 0.0062 - accuracy: 0.9989 - val_loss: 0.0057 - val_accuracy: 0.9988\n",
            "Epoch 4/5\n",
            "1688/1688 [==============================] - 44s 26ms/step - loss: 0.0060 - accuracy: 0.9990 - val_loss: 0.0080 - val_accuracy: 0.9985\n",
            "Epoch 5/5\n",
            "1688/1688 [==============================] - 45s 27ms/step - loss: 0.0059 - accuracy: 0.9990 - val_loss: 0.0061 - val_accuracy: 0.9987\n",
            "> 99.867\n",
            "Epoch 1/5\n",
            "1688/1688 [==============================] - 45s 27ms/step - loss: 0.0060 - accuracy: 0.9989 - val_loss: 0.0040 - val_accuracy: 0.9990\n",
            "Epoch 2/5\n",
            "1688/1688 [==============================] - 44s 26ms/step - loss: 0.0059 - accuracy: 0.9990 - val_loss: 0.0040 - val_accuracy: 0.9993\n",
            "Epoch 3/5\n",
            "1688/1688 [==============================] - 44s 26ms/step - loss: 0.0055 - accuracy: 0.9991 - val_loss: 0.0048 - val_accuracy: 0.9987\n",
            "Epoch 4/5\n",
            "1688/1688 [==============================] - 45s 27ms/step - loss: 0.0054 - accuracy: 0.9991 - val_loss: 0.0044 - val_accuracy: 0.9990\n",
            "Epoch 5/5\n",
            "1688/1688 [==============================] - 44s 26ms/step - loss: 0.0053 - accuracy: 0.9992 - val_loss: 0.0046 - val_accuracy: 0.9993\n",
            "> 99.933\n",
            "Epoch 1/5\n",
            "1688/1688 [==============================] - 44s 26ms/step - loss: 0.0051 - accuracy: 0.9993 - val_loss: 0.0041 - val_accuracy: 0.9993\n",
            "Epoch 2/5\n",
            "1688/1688 [==============================] - 44s 26ms/step - loss: 0.0049 - accuracy: 0.9992 - val_loss: 0.0042 - val_accuracy: 0.9993\n",
            "Epoch 3/5\n",
            "1688/1688 [==============================] - 45s 27ms/step - loss: 0.0047 - accuracy: 0.9993 - val_loss: 0.0045 - val_accuracy: 0.9993\n",
            "Epoch 4/5\n",
            "1688/1688 [==============================] - 44s 26ms/step - loss: 0.0045 - accuracy: 0.9993 - val_loss: 0.0053 - val_accuracy: 0.9992\n",
            "Epoch 5/5\n",
            "1688/1688 [==============================] - 45s 27ms/step - loss: 0.0044 - accuracy: 0.9994 - val_loss: 0.0044 - val_accuracy: 0.9992\n",
            "> 99.917\n",
            "Epoch 1/5\n",
            "1688/1688 [==============================] - 45s 27ms/step - loss: 0.0044 - accuracy: 0.9993 - val_loss: 0.0048 - val_accuracy: 0.9992\n",
            "Epoch 2/5\n",
            "1688/1688 [==============================] - 44s 26ms/step - loss: 0.0042 - accuracy: 0.9994 - val_loss: 0.0045 - val_accuracy: 0.9993\n",
            "Epoch 3/5\n",
            "1688/1688 [==============================] - 44s 26ms/step - loss: 0.0040 - accuracy: 0.9995 - val_loss: 0.0047 - val_accuracy: 0.9993\n",
            "Epoch 4/5\n",
            "1688/1688 [==============================] - 45s 27ms/step - loss: 0.0039 - accuracy: 0.9996 - val_loss: 0.0047 - val_accuracy: 0.9993\n",
            "Epoch 5/5\n",
            "1688/1688 [==============================] - 44s 26ms/step - loss: 0.0037 - accuracy: 0.9995 - val_loss: 0.0051 - val_accuracy: 0.9992\n",
            "> 99.917\n",
            "Epoch 1/5\n",
            "1688/1688 [==============================] - 45s 26ms/step - loss: 0.0038 - accuracy: 0.9996 - val_loss: 0.0034 - val_accuracy: 0.9997\n",
            "Epoch 2/5\n",
            "1688/1688 [==============================] - 45s 26ms/step - loss: 0.0038 - accuracy: 0.9996 - val_loss: 0.0037 - val_accuracy: 0.9993\n",
            "Epoch 3/5\n",
            "1688/1688 [==============================] - 44s 26ms/step - loss: 0.0037 - accuracy: 0.9996 - val_loss: 0.0037 - val_accuracy: 0.9997\n",
            "Epoch 4/5\n",
            "1688/1688 [==============================] - 46s 27ms/step - loss: 0.0035 - accuracy: 0.9996 - val_loss: 0.0034 - val_accuracy: 0.9995\n",
            "Epoch 5/5\n",
            "1688/1688 [==============================] - 44s 26ms/step - loss: 0.0035 - accuracy: 0.9996 - val_loss: 0.0040 - val_accuracy: 0.9993\n",
            "> 99.933\n"
          ]
        }
      ]
    },
    {
      "cell_type": "code",
      "source": [
        "#CODE FROM  MAHCINE LEARNING MASTERY\n",
        "# plot diagnostic learning curves\n",
        "\n",
        "for i in range(len(histories)):\n",
        "\t\t# plot loss\n",
        "\tplt.subplot(2, 1, 1)\n",
        "\tplt.title('Cross Entropy Loss')\n",
        "\tplt.plot(histories[i].history['loss'], color='blue', label='train')\n",
        "\tplt.plot(histories[i].history['val_loss'], color='orange', label='test')\n",
        "  #print(histories[i].history['loss'])\n",
        "\t\t# plot accuracy\n",
        "\tplt.subplot(2, 1, 2)\n",
        "\tplt.title('Classification Accuracy')\n",
        "\tplt.plot(histories[i].history['accuracy'], color='blue', label='train')\n",
        "\tplt.plot(histories[i].history['val_accuracy'], color='orange', label='test')\n",
        "plt.show()"
      ],
      "metadata": {
        "colab": {
          "base_uri": "https://localhost:8080/",
          "height": 370
        },
        "id": "7nGBqhZOBbc0",
        "outputId": "063268df-1679-440b-d8e0-f9ba7a6bf351"
      },
      "execution_count": 166,
      "outputs": [
        {
          "output_type": "stream",
          "name": "stderr",
          "text": [
            "<ipython-input-166-7de6367e8ffd>:6: MatplotlibDeprecationWarning: Adding an axes using the same arguments as a previous axes currently reuses the earlier instance.  In a future version, a new instance will always be created and returned.  Meanwhile, this warning can be suppressed, and the future behavior ensured, by passing a unique label to each axes instance.\n",
            "  plt.subplot(2, 1, 1)\n",
            "<ipython-input-166-7de6367e8ffd>:12: MatplotlibDeprecationWarning: Adding an axes using the same arguments as a previous axes currently reuses the earlier instance.  In a future version, a new instance will always be created and returned.  Meanwhile, this warning can be suppressed, and the future behavior ensured, by passing a unique label to each axes instance.\n",
            "  plt.subplot(2, 1, 2)\n"
          ]
        },
        {
          "output_type": "display_data",
          "data": {
            "text/plain": [
              "<Figure size 432x288 with 2 Axes>"
            ],
            "image/png": "[encoded data removed]"
          },
          "metadata": {
            "needs_background": "light"
          }
        }
      ]
    },
    {
      "cell_type": "code",
      "source": [
        "for i in range(len(histories)):\n",
        "  plt.title('Cross Entropy Loss')\n",
        "  plt.plot(histories[i].history['accuracy'], color='blue', label='train')\n",
        "  plt.plot(histories[i].history['val_accuracy'], color='orange', label='test')\n",
        "plt.show()"
      ],
      "metadata": {
        "colab": {
          "base_uri": "https://localhost:8080/",
          "height": 281
        },
        "id": "57EdqNkoQkRY",
        "outputId": "96063bd8-9675-4f98-af86-1ccd168c24d3"
      },
      "execution_count": 173,
      "outputs": [
        {
          "output_type": "display_data",
          "data": {
            "text/plain": [
              "<Figure size 432x288 with 1 Axes>"
            ],
            "image/png": "[encoded data removed]"
          },
          "metadata": {
            "needs_background": "light"
          }
        }
      ]
    },
    {
      "cell_type": "code",
      "source": [
        "for i in range(len(histories)):\n",
        "  print(histories[i].history['loss'])"
      ],
      "metadata": {
        "colab": {
          "base_uri": "https://localhost:8080/"
        },
        "id": "XX72w4pcdNjg",
        "outputId": "85bb251b-37d7-43e7-fb47-5941a08e69ec"
      },
      "execution_count": 45,
      "outputs": [
        {
          "output_type": "stream",
          "name": "stdout",
          "text": [
            "[0.03223267197608948, 0.03131156787276268, 0.029802929610013962, 0.02860097400844097, 0.027643591165542603, 0.026574168354272842, 0.026016779243946075, 0.024579862132668495, 0.024183498695492744, 0.0233016274869442]\n",
            "[0.03223267197608948, 0.03131156787276268, 0.029802929610013962, 0.02860097400844097, 0.027643591165542603, 0.026574168354272842, 0.026016779243946075, 0.024579862132668495, 0.024183498695492744, 0.0233016274869442]\n",
            "[0.03223267197608948, 0.03131156787276268, 0.029802929610013962, 0.02860097400844097, 0.027643591165542603, 0.026574168354272842, 0.026016779243946075, 0.024579862132668495, 0.024183498695492744, 0.0233016274869442]\n",
            "[0.03223267197608948, 0.03131156787276268, 0.029802929610013962, 0.02860097400844097, 0.027643591165542603, 0.026574168354272842, 0.026016779243946075, 0.024579862132668495, 0.024183498695492744, 0.0233016274869442]\n",
            "[0.03223267197608948, 0.03131156787276268, 0.029802929610013962, 0.02860097400844097, 0.027643591165542603, 0.026574168354272842, 0.026016779243946075, 0.024579862132668495, 0.024183498695492744, 0.0233016274869442]\n",
            "[0.03223267197608948, 0.03131156787276268, 0.029802929610013962, 0.02860097400844097, 0.027643591165542603, 0.026574168354272842, 0.026016779243946075, 0.024579862132668495, 0.024183498695492744, 0.0233016274869442]\n",
            "[0.03223267197608948, 0.03131156787276268, 0.029802929610013962, 0.02860097400844097, 0.027643591165542603, 0.026574168354272842, 0.026016779243946075, 0.024579862132668495, 0.024183498695492744, 0.0233016274869442]\n",
            "[0.03223267197608948, 0.03131156787276268, 0.029802929610013962, 0.02860097400844097, 0.027643591165542603, 0.026574168354272842, 0.026016779243946075, 0.024579862132668495, 0.024183498695492744, 0.0233016274869442]\n",
            "[0.03223267197608948, 0.03131156787276268, 0.029802929610013962, 0.02860097400844097, 0.027643591165542603, 0.026574168354272842, 0.026016779243946075, 0.024579862132668495, 0.024183498695492744, 0.0233016274869442]\n",
            "[0.03223267197608948, 0.03131156787276268, 0.029802929610013962, 0.02860097400844097, 0.027643591165542603, 0.026574168354272842, 0.026016779243946075, 0.024579862132668495, 0.024183498695492744, 0.0233016274869442]\n"
          ]
        }
      ]
    },
    {
      "cell_type": "code",
      "source": [
        "model.layers"
      ],
      "metadata": {
        "colab": {
          "base_uri": "https://localhost:8080/"
        },
        "id": "qDnpozXBgkbb",
        "outputId": "0d607def-6ed0-4d94-a70c-aa827498f16f"
      },
      "execution_count": 50,
      "outputs": [
        {
          "output_type": "execute_result",
          "data": {
            "text/plain": [
              "[<keras.layers.convolutional.conv2d.Conv2D at 0x7f192c689160>,\n",
              " <keras.layers.pooling.max_pooling2d.MaxPooling2D at 0x7f19b468ff70>,\n",
              " <keras.layers.convolutional.conv2d.Conv2D at 0x7f19280e7310>,\n",
              " <keras.layers.pooling.max_pooling2d.MaxPooling2D at 0x7f19b468faf0>,\n",
              " <keras.layers.convolutional.conv2d.Conv2D at 0x7f1928056220>,\n",
              " <keras.layers.reshaping.flatten.Flatten at 0x7f1928056d90>,\n",
              " <keras.layers.core.dense.Dense at 0x7f1928031a60>,\n",
              " <keras.layers.core.dense.Dense at 0x7f192805e2b0>]"
            ]
          },
          "metadata": {},
          "execution_count": 50
        }
      ]
    },
    {
      "cell_type": "code",
      "source": [
        "filters, biases = model.layers[0].get_weights()\n",
        "# normalize filter values to 0-1 so we can visualize them\n",
        "f_min, f_max = filters.min(), filters.max()\n",
        "filters = (filters - f_min) / (f_max - f_min)\n",
        "\n",
        "#print(len(filters))\n",
        "#print(filters)\n",
        "\n",
        "print(\"First Conv Layer\")\n",
        "print(filters.shape)\n",
        "\n",
        "\n",
        "\n",
        "# plot first few filters\n",
        "n_filters, ix = 6, 1\n",
        "for i in range(n_filters):\n",
        " # get the filter\n",
        " f = filters[:, :, :, i]\n",
        " # plot each channel separately\n",
        " for j in range(1):\n",
        " # specify subplot and turn of axis\n",
        "  ax = plt.subplot(n_filters, 3, ix)\n",
        "  ax.set_xticks([])\n",
        "  ax.set_yticks([])\n",
        " # plot filter channel in grayscale\n",
        "  plt.imshow(f[:, :, j], cmap='gray')\n",
        "  ix += 1\n",
        "# show the figure\n",
        "plt.show()"
      ],
      "metadata": {
        "colab": {
          "base_uri": "https://localhost:8080/",
          "height": 266
        },
        "id": "u1kBynxoil2J",
        "outputId": "cded3b09-7ad0-4646-aefe-9e60a3751935"
      },
      "execution_count": 81,
      "outputs": [
        {
          "output_type": "stream",
          "name": "stdout",
          "text": [
            "First Conv Layer\n",
            "(5, 5, 1, 6)\n"
          ]
        },
        {
          "output_type": "display_data",
          "data": {
            "text/plain": [
              "<Figure size 432x288 with 6 Axes>"
            ],
            "image/png": "[encoded data removed]"
          },
          "metadata": {}
        },
        {
          "output_type": "stream",
          "name": "stdout",
          "text": [
            "Second Conv Layer\n",
            "(5, 5, 6, 16)\n"
          ]
        },
        {
          "output_type": "display_data",
          "data": {
            "text/plain": [
              "<Figure size 432x288 with 16 Axes>"
            ],
            "image/png": "[encoded data removed]"
          },
          "metadata": {}
        },
        {
          "output_type": "stream",
          "name": "stdout",
          "text": [
            "Third Conv Layer\n",
            "(5, 5, 16, 120)\n"
          ]
        },
        {
          "output_type": "display_data",
          "data": {
            "text/plain": [
              "<Figure size 432x288 with 64 Axes>"
            ],
            "image/png": "[encoded data removed]"
          },
          "metadata": {}
        }
      ]
    },
    {
      "cell_type": "code",
      "source": [
        "f = filters[:, :, :, 0]\n",
        "plt.imshow(f[:, :, 0], cmap='gray')\n",
        "plt.show()"
      ],
      "metadata": {
        "colab": {
          "base_uri": "https://localhost:8080/",
          "height": 265
        },
        "id": "Rm7KQ_SFtQId",
        "outputId": "bd7211da-6e8e-48f8-a3a9-db8932796a21"
      },
      "execution_count": 91,
      "outputs": [
        {
          "output_type": "display_data",
          "data": {
            "text/plain": [
              "<Figure size 432x288 with 1 Axes>"
            ],
            "image/png": "[encoded data removed]"
          },
          "metadata": {
            "needs_background": "light"
          }
        }
      ]
    },
    {
      "cell_type": "code",
      "source": [
        "print(\"Second Conv Layer\")\n",
        "filters, biases = model.layers[2].get_weights()\n",
        "\n",
        "f_min, f_max = filters.min(), filters.max()\n",
        "filters = (filters - f_min) / (f_max - f_min)\n",
        "\n",
        "#print(len(filters))\n",
        "print(filters.shape)\n",
        "#print(filters)\n",
        "\n",
        "# plot first few filters\n",
        "n_filters, ix = 2, 1 #up tp 16\n",
        "for i in range(n_filters):\n",
        " # get the filter\n",
        " f = filters[:, :, :, i]\n",
        " # plot each channel separately\n",
        " for j in range(6):\n",
        " # specify subplot and turn of axis\n",
        "  ax = plt.subplot(n_filters, 6, ix)\n",
        "  ax.set_xticks([])\n",
        "  ax.set_yticks([])\n",
        " # plot filter channel in grayscale\n",
        "  plt.imshow(f[:, :, j], cmap='gray')\n",
        "  ix += 1\n",
        "# show the figure\n",
        "plt.show()"
      ],
      "metadata": {
        "colab": {
          "base_uri": "https://localhost:8080/",
          "height": 236
        },
        "id": "dscc5d3grAT0",
        "outputId": "c891be1c-f223-470b-8c46-68bf534e9ab2"
      },
      "execution_count": 117,
      "outputs": [
        {
          "output_type": "stream",
          "name": "stdout",
          "text": [
            "Second Conv Layer\n",
            "(5, 5, 6, 16)\n"
          ]
        },
        {
          "output_type": "display_data",
          "data": {
            "text/plain": [
              "<Figure size 432x288 with 12 Axes>"
            ],
            "image/png": "[encoded data removed]"
          },
          "metadata": {}
        }
      ]
    },
    {
      "cell_type": "code",
      "source": [
        "print(\"Third Conv Layer\")\n",
        "filters, biases = model.layers[4].get_weights()\n",
        "\n",
        "f_min, f_max = filters.min(), filters.max()\n",
        "filters = (filters - f_min) / (f_max - f_min)\n",
        "\n",
        "#print(len(filters))\n",
        "print(filters.shape)\n",
        "#print(filters)\n",
        "\n",
        "# plot first few filters\n",
        "n_filters, ix = 3, 1 #up to 120,1\n",
        "for i in range(n_filters):\n",
        " # get the filter\n",
        " f = filters[:, :, :, i]\n",
        " # plot each channel separately\n",
        " for j in range(5): #up to 16\n",
        " # specify subplot and turn of axis\n",
        "  ax = plt.subplot(n_filters, 5, ix) #up to 16\n",
        "  ax.set_xticks([])\n",
        "  ax.set_yticks([])\n",
        " # plot filter channel in grayscale\n",
        "  plt.imshow(f[:, :, j], cmap='gray')\n",
        "  ix += 1\n",
        "# show the figure\n",
        "plt.show()"
      ],
      "metadata": {
        "colab": {
          "base_uri": "https://localhost:8080/",
          "height": 281
        },
        "id": "PH_pqwe8rA30",
        "outputId": "852f77a8-e280-4913-e520-88b3a282f011"
      },
      "execution_count": 118,
      "outputs": [
        {
          "output_type": "stream",
          "name": "stdout",
          "text": [
            "Third Conv Layer\n",
            "(5, 5, 16, 120)\n"
          ]
        },
        {
          "output_type": "display_data",
          "data": {
            "text/plain": [
              "<Figure size 432x288 with 15 Axes>"
            ],
            "image/png": "[encoded data removed]"
          },
          "metadata": {}
        }
      ]
    },
    {
      "cell_type": "code",
      "source": [
        "f = filters[:, :, :, 119]\n",
        "plt.imshow(f[:, :, 0], cmap='gray')\n",
        "plt.show()"
      ],
      "metadata": {
        "colab": {
          "base_uri": "https://localhost:8080/",
          "height": 265
        },
        "id": "p2t3sCtZrpT8",
        "outputId": "350ce041-2296-4de3-84b0-2556481a0a57"
      },
      "execution_count": 89,
      "outputs": [
        {
          "output_type": "display_data",
          "data": {
            "text/plain": [
              "<Figure size 432x288 with 1 Axes>"
            ],
            "image/png": "[encoded data removed]"
          },
          "metadata": {
            "needs_background": "light"
          }
        }
      ]
    },
    {
      "cell_type": "code",
      "source": [
        "model.summary()"
      ],
      "metadata": {
        "colab": {
          "base_uri": "https://localhost:8080/"
        },
        "id": "UFwjNCxzsLW2",
        "outputId": "e4925863-f7ec-4535-ed8e-cd0df35d1bc4"
      },
      "execution_count": 90,
      "outputs": [
        {
          "output_type": "stream",
          "name": "stdout",
          "text": [
            "Model: \"sequential\"\n",
            "_________________________________________________________________\n",
            " Layer (type)                Output Shape              Param #   \n",
            "=================================================================\n",
            " conv2d (Conv2D)             (None, 28, 28, 6)         156       \n",
            "                                                                 \n",
            " max_pooling2d (MaxPooling2D  (None, 14, 14, 6)        0         \n",
            " )                                                               \n",
            "                                                                 \n",
            " conv2d_1 (Conv2D)           (None, 10, 10, 16)        2416      \n",
            "                                                                 \n",
            " max_pooling2d_1 (MaxPooling  (None, 5, 5, 16)         0         \n",
            " 2D)                                                             \n",
            "                                                                 \n",
            " conv2d_2 (Conv2D)           (None, 1, 1, 120)         48120     \n",
            "                                                                 \n",
            " flatten (Flatten)           (None, 120)               0         \n",
            "                                                                 \n",
            " dense (Dense)               (None, 84)                10164     \n",
            "                                                                 \n",
            " dense_1 (Dense)             (None, 10)                850       \n",
            "                                                                 \n",
            "=================================================================\n",
            "Total params: 61,706\n",
            "Trainable params: 61,706\n",
            "Non-trainable params: 0\n",
            "_________________________________________________________________\n"
          ]
        }
      ]
    },
    {
      "cell_type": "code",
      "source": [
        "#GET INFO ON THE WEIGHTS\n",
        "for layer in model.layers:\n",
        " # check for convolutional layer\n",
        " if 'conv' not in layer.name:\n",
        "  continue\n",
        "  # get filter weights\n",
        " filters, biases = layer.get_weights()\n",
        " print(layer.name, filters.shape) \n",
        "\n"
      ],
      "metadata": {
        "colab": {
          "base_uri": "https://localhost:8080/"
        },
        "id": "mk7zfnTCt0HR",
        "outputId": "7da75238-1154-4046-8569-c104396cc19b"
      },
      "execution_count": 99,
      "outputs": [
        {
          "output_type": "stream",
          "name": "stdout",
          "text": [
            "conv2d (5, 5, 1, 6)\n",
            "conv2d_1 (5, 5, 6, 16)\n",
            "conv2d_2 (5, 5, 16, 120)\n"
          ]
        }
      ]
    },
    {
      "cell_type": "code",
      "source": [
        "# summarize feature map shapes\n",
        "for i in range(len(model.layers)):\n",
        "\tlayer = model.layers[i]\n",
        "\t# check for convolutional layer\n",
        "\t#if 'conv' not in layer.name:\n",
        "\t\t#continue\n",
        "\t# summarize output shape\n",
        "\tprint(i, layer.name, layer.output.shape)"
      ],
      "metadata": {
        "colab": {
          "base_uri": "https://localhost:8080/"
        },
        "id": "AUH0sv2W0LWX",
        "outputId": "1d4cc48d-4469-4fd2-edca-b6c36db29344"
      },
      "execution_count": 142,
      "outputs": [
        {
          "output_type": "stream",
          "name": "stdout",
          "text": [
            "0 conv2d (None, 28, 28, 6)\n",
            "1 max_pooling2d (None, 14, 14, 6)\n",
            "2 conv2d_1 (None, 10, 10, 16)\n",
            "3 max_pooling2d_1 (None, 5, 5, 16)\n",
            "4 conv2d_2 (None, 1, 1, 120)\n",
            "5 flatten (None, 120)\n",
            "6 dense (None, 84)\n",
            "7 dense_1 (None, 10)\n"
          ]
        }
      ]
    },
    {
      "cell_type": "code",
      "source": [
        "##PLOTTING THE SAME FEATURE MAP ACROSS THE CNN\n",
        "from keras.models import Model\n",
        "\n",
        "print(model.inputs)\n",
        "\n",
        "img = np.expand_dims(train_img[0], axis=0)\n",
        "img1 = np.expand_dims(train_img[1], axis=0)\n",
        "img2 = np.expand_dims(train_img[2], axis=0)\n",
        "\n",
        "# redefine model to output right after the first hidden layer\n",
        "model2 = Model(inputs=model.inputs, outputs=model.layers[0].output)\n",
        "model_pooling = Model(inputs=model.inputs, outputs=model.layers[1].output)\n",
        "model_conv2 = Model(inputs=model.inputs, outputs=model.layers[2].output)\n",
        "model_conv3 = Model(inputs=model.inputs, outputs=model.layers[3].output)\n",
        "model2.summary()\n",
        "\n",
        "feature_maps = model2.predict(img)\n",
        "print(feature_maps.shape)\n",
        "\n",
        "plt.imshow(feature_maps[0,:,:,2], cmap = \"gray\")\n",
        "plt.show()\n",
        "#plt.imshow(feature_maps[0,:,:,1], cmap = \"gray\")\n",
        "#plt.show()\n",
        "\n",
        "feature_maps = model_pooling.predict(img)\n",
        "plt.imshow(feature_maps[0,:,:,2], cmap = \"gray\")\n",
        "plt.show()\n",
        "#plt.imshow(feature_maps[0,:,:,1], cmap = \"gray\")\n",
        "#plt.show()\n",
        "\n",
        "feature_maps = model_conv2.predict(img)\n",
        "plt.imshow(feature_maps[0,:,:,2], cmap = \"gray\")\n",
        "plt.show()\n",
        "#plt.imshow(feature_maps[0,:,:,1], cmap = \"gray\")\n",
        "#plt.show()\n",
        "\n",
        "feature_maps = model_conv3.predict(img)\n",
        "plt.imshow(feature_maps[0,:,:,2], cmap = \"gray\")\n",
        "plt.show()"
      ],
      "metadata": {
        "colab": {
          "base_uri": "https://localhost:8080/",
          "height": 1000
        },
        "id": "4rlHSLlt0exn",
        "outputId": "5e183cb4-2bab-402c-ef2e-86390dab5de9"
      },
      "execution_count": 150,
      "outputs": [
        {
          "output_type": "stream",
          "name": "stdout",
          "text": [
            "[<KerasTensor: shape=(None, 28, 28, 1) dtype=float32 (created by layer 'conv2d_input')>]\n",
            "Model: \"model_44\"\n",
            "_________________________________________________________________\n",
            " Layer (type)                Output Shape              Param #   \n",
            "=================================================================\n",
            " conv2d_input (InputLayer)   [(None, 28, 28, 1)]       0         \n",
            "                                                                 \n",
            " conv2d (Conv2D)             (None, 28, 28, 6)         156       \n",
            "                                                                 \n",
            "=================================================================\n",
            "Total params: 156\n",
            "Trainable params: 156\n",
            "Non-trainable params: 0\n",
            "_________________________________________________________________\n",
            "1/1 [==============================] - 0s 45ms/step\n",
            "(1, 28, 28, 6)\n"
          ]
        },
        {
          "output_type": "display_data",
          "data": {
            "text/plain": [
              "<Figure size 432x288 with 1 Axes>"
            ],
            "image/png": "[encoded data removed]"
          },
          "metadata": {
            "needs_background": "light"
          }
        },
        {
          "output_type": "stream",
          "name": "stdout",
          "text": [
            "1/1 [==============================] - 0s 49ms/step\n"
          ]
        },
        {
          "output_type": "display_data",
          "data": {
            "text/plain": [
              "<Figure size 432x288 with 1 Axes>"
            ],
            "image/png": "[encoded data removed]"
          },
          "metadata": {
            "needs_background": "light"
          }
        },
        {
          "output_type": "stream",
          "name": "stdout",
          "text": [
            "1/1 [==============================] - 0s 57ms/step\n"
          ]
        },
        {
          "output_type": "display_data",
          "data": {
            "text/plain": [
              "<Figure size 432x288 with 1 Axes>"
            ],
            "image/png": "[encoded data removed]"
          },
          "metadata": {
            "needs_background": "light"
          }
        },
        {
          "output_type": "stream",
          "name": "stdout",
          "text": [
            "1/1 [==============================] - 0s 58ms/step\n"
          ]
        },
        {
          "output_type": "display_data",
          "data": {
            "text/plain": [
              "<Figure size 432x288 with 1 Axes>"
            ],
            "image/png": "[encoded data removed]"
          },
          "metadata": {
            "needs_background": "light"
          }
        }
      ]
    },
    {
      "cell_type": "code",
      "source": [
        "###PLOTTING THE SAME LAYER\n",
        "#ACROSS DIFFERENT NUMBERS\n",
        "from keras.models import Model\n",
        "\n",
        "print(model.inputs)\n",
        "\n",
        "img = np.expand_dims(train_img[0], axis=0)\n",
        "img1 = np.expand_dims(train_img[1], axis=0)\n",
        "img2 = np.expand_dims(train_img[2], axis=0)\n",
        "\n",
        "# redefine model to output right after the first hidden layer\n",
        "model2 = Model(inputs=model.inputs, outputs=model.layers[0].output)\n",
        "\n",
        "feature_maps = model2.predict(img)\n",
        "print(feature_maps.shape)\n",
        "\n",
        "plt.imshow(feature_maps[0,:,:,1], cmap = \"gray\")\n",
        "plt.show()\n",
        "plt.imshow(feature_maps[0,:,:,2], cmap = \"gray\")\n",
        "plt.show()\n",
        "\n",
        "feature_maps = model2.predict(img1)\n",
        "plt.imshow(feature_maps[0,:,:,1], cmap = \"gray\")\n",
        "plt.show()\n",
        "plt.imshow(feature_maps[0,:,:,2], cmap = \"gray\")\n",
        "plt.show()\n",
        "\n",
        "feature_maps = model2.predict(img2)\n",
        "#plt.imshow(train_img[2].reshape(28,28), cmap = \"gray\")\n",
        "plt.show()\n",
        "plt.imshow(feature_maps[0,:,:,1], cmap = \"gray\")\n",
        "plt.show()\n",
        "plt.imshow(feature_maps[0,:,:,2], cmap = \"gray\")\n",
        "plt.show()\n",
        "\n"
      ],
      "metadata": {
        "colab": {
          "base_uri": "https://localhost:8080/",
          "height": 1000
        },
        "id": "oB9ByHZN7fww",
        "outputId": "18432bbd-002f-4940-9c31-78315b1ef758"
      },
      "execution_count": 158,
      "outputs": [
        {
          "output_type": "stream",
          "name": "stdout",
          "text": [
            "[<KerasTensor: shape=(None, 28, 28, 1) dtype=float32 (created by layer 'conv2d_input')>]\n",
            "1/1 [==============================] - 0s 73ms/step\n",
            "(1, 28, 28, 6)\n"
          ]
        },
        {
          "output_type": "display_data",
          "data": {
            "text/plain": [
              "<Figure size 432x288 with 1 Axes>"
            ],
            "image/png": "[encoded data removed]"
          },
          "metadata": {
            "needs_background": "light"
          }
        },
        {
          "output_type": "display_data",
          "data": {
            "text/plain": [
              "<Figure size 432x288 with 1 Axes>"
            ],
            "image/png": "[encoded data removed]"
          },
          "metadata": {
            "needs_background": "light"
          }
        },
        {
          "output_type": "stream",
          "name": "stdout",
          "text": [
            "1/1 [==============================] - 0s 62ms/step\n"
          ]
        },
        {
          "output_type": "display_data",
          "data": {
            "text/plain": [
              "<Figure size 432x288 with 1 Axes>"
            ],
            "image/png": "[encoded data removed]"
          },
          "metadata": {
            "needs_background": "light"
          }
        },
        {
          "output_type": "display_data",
          "data": {
            "text/plain": [
              "<Figure size 432x288 with 1 Axes>"
            ],
            "image/png": "[encoded data removed]"
          },
          "metadata": {
            "needs_background": "light"
          }
        },
        {
          "output_type": "stream",
          "name": "stdout",
          "text": [
            "1/1 [==============================] - 0s 27ms/step\n"
          ]
        },
        {
          "output_type": "display_data",
          "data": {
            "text/plain": [
              "<Figure size 432x288 with 1 Axes>"
            ],
            "image/png": "[encoded data removed]"
          },
          "metadata": {
            "needs_background": "light"
          }
        },
        {
          "output_type": "display_data",
          "data": {
            "text/plain": [
              "<Figure size 432x288 with 1 Axes>"
            ],
            "image/png": "[encoded data removed]"
          },
          "metadata": {
            "needs_background": "light"
          }
        }
      ]
    },
    {
      "cell_type": "markdown",
      "source": [
        "# TRADITIONAL SEQUENTIAL NEURAL NETWORK"
      ],
      "metadata": {
        "id": "8rtBglWf8y9r"
      }
    },
    {
      "cell_type": "code",
      "source": [
        "tradnn = Sequential()\n",
        "tradnn.add(Flatten(input_shape = (28,28,1)))\n",
        "tradnn.add(Dense(120, activation = \"sigmoid\"))\n",
        "tradnn.add(Dense(10,activation = \"softmax\"))\n",
        "\n",
        "tradnn.compile(optimizer = \"SGD\", loss = 'categorical_crossentropy',metrics=['accuracy'])\n",
        "\n",
        "#tradnn.fit(train_img, train_lab, epochs = 5, batch_size = 32)\n",
        "\n",
        "history2 = tradnn.fit(train_img,train_lab,validation_data=(test_img,test_lab),epochs = 15, batch_size = 32)"
      ],
      "metadata": {
        "colab": {
          "base_uri": "https://localhost:8080/"
        },
        "id": "mGEZX7YA8mxP",
        "outputId": "957686d5-3d36-47d6-fd02-1f0ba78250ac"
      },
      "execution_count": 164,
      "outputs": [
        {
          "output_type": "stream",
          "name": "stdout",
          "text": [
            "Epoch 1/15\n",
            "1875/1875 [==============================] - 7s 4ms/step - loss: 1.4807 - accuracy: 0.6905 - val_loss: 0.8904 - val_accuracy: 0.8286\n",
            "Epoch 2/15\n",
            "1875/1875 [==============================] - 6s 3ms/step - loss: 0.7129 - accuracy: 0.8466 - val_loss: 0.5672 - val_accuracy: 0.8739\n",
            "Epoch 3/15\n",
            "1875/1875 [==============================] - 7s 4ms/step - loss: 0.5253 - accuracy: 0.8734 - val_loss: 0.4593 - val_accuracy: 0.8873\n",
            "Epoch 4/15\n",
            "1875/1875 [==============================] - 6s 3ms/step - loss: 0.4480 - accuracy: 0.8857 - val_loss: 0.4056 - val_accuracy: 0.8939\n",
            "Epoch 5/15\n",
            "1875/1875 [==============================] - 7s 4ms/step - loss: 0.4054 - accuracy: 0.8922 - val_loss: 0.3730 - val_accuracy: 0.9024\n",
            "Epoch 6/15\n",
            "1875/1875 [==============================] - 6s 3ms/step - loss: 0.3781 - accuracy: 0.8975 - val_loss: 0.3517 - val_accuracy: 0.9064\n",
            "Epoch 7/15\n",
            "1875/1875 [==============================] - 7s 4ms/step - loss: 0.3586 - accuracy: 0.9007 - val_loss: 0.3364 - val_accuracy: 0.9075\n",
            "Epoch 8/15\n",
            "1875/1875 [==============================] - 6s 3ms/step - loss: 0.3440 - accuracy: 0.9041 - val_loss: 0.3238 - val_accuracy: 0.9110\n",
            "Epoch 9/15\n",
            "1875/1875 [==============================] - 7s 4ms/step - loss: 0.3323 - accuracy: 0.9062 - val_loss: 0.3137 - val_accuracy: 0.9128\n",
            "Epoch 10/15\n",
            "1875/1875 [==============================] - 6s 3ms/step - loss: 0.3224 - accuracy: 0.9091 - val_loss: 0.3054 - val_accuracy: 0.9139\n",
            "Epoch 11/15\n",
            "1875/1875 [==============================] - 7s 4ms/step - loss: 0.3142 - accuracy: 0.9113 - val_loss: 0.2984 - val_accuracy: 0.9154\n",
            "Epoch 12/15\n",
            "1875/1875 [==============================] - 6s 3ms/step - loss: 0.3068 - accuracy: 0.9123 - val_loss: 0.2918 - val_accuracy: 0.9185\n",
            "Epoch 13/15\n",
            "1875/1875 [==============================] - 7s 4ms/step - loss: 0.3002 - accuracy: 0.9144 - val_loss: 0.2867 - val_accuracy: 0.9190\n",
            "Epoch 14/15\n",
            "1875/1875 [==============================] - 6s 3ms/step - loss: 0.2943 - accuracy: 0.9162 - val_loss: 0.2816 - val_accuracy: 0.9205\n",
            "Epoch 15/15\n",
            "1875/1875 [==============================] - 7s 4ms/step - loss: 0.2888 - accuracy: 0.9179 - val_loss: 0.2769 - val_accuracy: 0.9209\n"
          ]
        }
      ]
    },
    {
      "cell_type": "code",
      "source": [
        "#CODE FROM J\n",
        "# Plot the training and test loss and accuracy \n",
        "plt.plot(history2.history[\"loss\"]) \n",
        "plt.plot(history2.history[\"val_loss\"]) \n",
        "plt.title(\"Model loss\") \n",
        "plt.ylabel(\"Loss\") \n",
        "plt.xlabel(\"Epoch\")\n",
        "plt.legend([\"train\", \"test\"], loc=\"upper right\") \n",
        "plt.show()\n",
        "\n",
        "plt.plot(history2.history[\"accuracy\"])\n",
        "plt.plot(history2.history[\"val_accuracy\"]) \n",
        "plt.title(\"Model accuracy\") \n",
        "plt.ylabel(\"Accuracy\") \n",
        "plt.xlabel(\"Epoch\")\n",
        "plt.legend([\"train\", \"test\"], loc=\"lower right\")\n",
        "plt.show()"
      ],
      "metadata": {
        "colab": {
          "base_uri": "https://localhost:8080/",
          "height": 573
        },
        "id": "0N9WrzgU8nQn",
        "outputId": "1ab04819-0b6a-4faa-f159-b2bbc783664c"
      },
      "execution_count": 160,
      "outputs": [
        {
          "output_type": "display_data",
          "data": {
            "text/plain": [
              "<Figure size 432x288 with 1 Axes>"
            ],
            "image/png": "[encoded data removed]"
          },
          "metadata": {
            "needs_background": "light"
          }
        },
        {
          "output_type": "display_data",
          "data": {
            "text/plain": [
              "<Figure size 432x288 with 1 Axes>"
            ],
            "image/png": "[encoded data removed]"
          },
          "metadata": {
            "needs_background": "light"
          }
        }
      ]
    },
    {
      "cell_type": "code",
      "source": [],
      "metadata": {
        "id": "P4kxkipk8nzx"
      },
      "execution_count": null,
      "outputs": []
    },
    {
      "cell_type": "code",
      "source": [],
      "metadata": {
        "id": "7CKZlCFI8omp"
      },
      "execution_count": null,
      "outputs": []
    }
  ]
}